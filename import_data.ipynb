{
 "cells": [
  {
   "cell_type": "code",
   "execution_count": 22,
   "metadata": {},
   "outputs": [],
   "source": [
    "import os\n",
    "import pandas as pd\n",
    "\n",
    "import snowflake.connector\n",
    "# Querying data by DictCursor\n",
    "from snowflake.connector import DictCursor"
   ]
  },
  {
   "cell_type": "code",
   "execution_count": null,
   "metadata": {},
   "outputs": [],
   "source": [
    "os.getcwd()"
   ]
  },
  {
   "cell_type": "code",
   "execution_count": 10,
   "metadata": {},
   "outputs": [],
   "source": [
    "# Read in credentials\n",
    "cred = open('/Users/berlincheng/Google Drive/cred.txt', 'r')\n",
    "user = cred.readline().strip('\\n')\n",
    "pw = cred.readline().strip('\\n')"
   ]
  },
  {
   "cell_type": "code",
   "execution_count": 11,
   "metadata": {},
   "outputs": [],
   "source": [
    "SNOWFLAKE_INFO = {\n",
    "    'connectionLimit': 1,\n",
    "    'account': 'taskrabbit',\n",
    "    'user': user,\n",
    "    'password': pw,\n",
    "    'database': 'TASKRABBIT_PRODUCTION',\n",
    "    'warehouse': 'DATA_ANALYST_WAREHOUSE',\n",
    "    'schema': 'PUBLIC',\n",
    "    }"
   ]
  },
  {
   "cell_type": "code",
   "execution_count": 12,
   "metadata": {},
   "outputs": [],
   "source": [
    "# need MFA when running this\n",
    "db_con = snowflake.connector.connect(**SNOWFLAKE_INFO)"
   ]
  },
  {
   "cell_type": "code",
   "execution_count": 13,
   "metadata": {
    "scrolled": true
   },
   "outputs": [
    {
     "name": "stdout",
     "output_type": "stream",
     "text": [
      "Connected to snowflake. Now read in query = open('/Folder Directory/sql_query_of_data.sql','r').read()\n"
     ]
    }
   ],
   "source": [
    "print(\"Connected to snowflake. Now read in query = open('/Folder Directory/sql_query_of_data.sql','r').read()\")"
   ]
  },
  {
   "cell_type": "code",
   "execution_count": null,
   "metadata": {},
   "outputs": [],
   "source": [
    "def query_to_df(query):\n",
    "    print(query)\n",
    "    cur = db_con.cursor(DictCursor)\n",
    "    cur.execute(query)\n",
    "    data = cur.fetchall()\n",
    "    return pd.DataFrame(data)"
   ]
  },
  {
   "cell_type": "code",
   "execution_count": 19,
   "metadata": {},
   "outputs": [],
   "source": [
    "# Function to read in files\n",
    "def fpath_to_df(fpath):\n",
    "    query = open(fpath,'r').read()\n",
    "    print(query)\n",
    "    cur = db_con.cursor(DictCursor)\n",
    "    cur.execute(query)\n",
    "    data = cur.fetchall()\n",
    "    return pd.DataFrame(data)"
   ]
  }
 ],
 "metadata": {
  "kernelspec": {
   "display_name": "Python 3",
   "language": "python",
   "name": "python3"
  },
  "language_info": {
   "codemirror_mode": {
    "name": "ipython",
    "version": 3
   },
   "file_extension": ".py",
   "mimetype": "text/x-python",
   "name": "python",
   "nbconvert_exporter": "python",
   "pygments_lexer": "ipython3",
   "version": "3.8.3"
  }
 },
 "nbformat": 4,
 "nbformat_minor": 4
}
