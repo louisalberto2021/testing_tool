{
 "cells": [
  {
   "cell_type": "code",
   "execution_count": 5,
   "metadata": {},
   "outputs": [],
   "source": [
    "import import_ipynb\n",
    "import os\n",
    "\n",
    "import pandas as pd\n",
    "import matplotlib\n",
    "import matplotlib.pyplot as plt\n",
    "import numpy as np\n",
    "import datetime as dt\n",
    "\n",
    "import scipy.stats as stats\n",
    "from scipy.stats import chi2_contingency\n",
    "import seaborn as sns"
   ]
  },
  {
   "cell_type": "markdown",
   "metadata": {},
   "source": [
    "### Import data"
   ]
  },
  {
   "cell_type": "code",
   "execution_count": 6,
   "metadata": {
    "scrolled": true
   },
   "outputs": [
    {
     "data": {
      "text/plain": [
       "'/Users/berlincheng/Documents/GitHub/native_search_redesign'"
      ]
     },
     "execution_count": 6,
     "metadata": {},
     "output_type": "execute_result"
    }
   ],
   "source": [
    "os.getcwd()"
   ]
  },
  {
   "cell_type": "code",
   "execution_count": 7,
   "metadata": {
    "scrolled": true
   },
   "outputs": [],
   "source": [
    "import import_data"
   ]
  },
  {
   "cell_type": "code",
   "execution_count": 8,
   "metadata": {
    "scrolled": true
   },
   "outputs": [
    {
     "name": "stdout",
     "output_type": "stream",
     "text": [
      "--USE TASKRABBIT_PRODUCTION.PUBLIC;\n",
      "SELECT \t\tO.GUID AS \"guid\"\n",
      "\t\t\t,O.VARIATION AS \"variation\"\n",
      "\t\t\t,IFNULL(SEARCH_BFS,0) AS \"search_bfs\" \n",
      "\t\t\t,IFNULL(BFS,0) AS \"bfs\"\n",
      "\t\t\t,IFNULL(BOOKED,0) AS \"booked\"\n",
      "--;SELECT COUNT(DISTINCT O.GUID)\n",
      "FROM \n",
      "(\n",
      "\t--Get guid-level info from Optimizely table\n",
      "\tSELECT \t\tGUID\n",
      "\t\t\t\t,CASE WHEN VARIATION_ID LIKE '%20041998218%' THEN 'control' WHEN VARIATION_ID LIKE '%20059568078%' THEN 'search_update' END AS VARIATION\n",
      "\tFROM \t\tPUBLIC.OPTIMIZELY_ENR_DECI \n",
      "\tWHERE \t\tTRUE \n",
      "\t\t\t\t--AND TIMESTAMP BETWEEN '2021-03-22' AND '2021-04-12'\n",
      "\t\t\t\tAND\tEXPERIMENT_ID LIKE '%20063077810%'\n",
      "\t\t\t\tAND ENVIRONMENT ='production'\n",
      "\tGROUP BY \t1,2\n",
      ") O \n",
      "LEFT JOIN \t\n",
      "(\n",
      "\t--Get guid-level info from react_native table\n",
      "\tSELECT \t\tGUID AS GUID\n",
      "\t\t\t\t,MAX(IFF(CLIENT_PUBLISH_TYPE='TaskSearch-Presented',1,0)) AS SAW_SEARCH --Was shown the search results page\n",
      "\t\t\t\t,MAX(IFF(CLIENT_PUBLISH_TYPE='TaskSearch-Result-Selected',1,0)) AS SEARCH_BFS\n",
      "\t\t\t\t,MAX(IFF(CLIENT_PUBLISH_TYPE IN('Funnel-Created','QuickFormAddressEditor-Presented','QuickForm-Presented'),1,0)) AS BFS\n",
      "\t\t\t\t,MAX(IFF(CLIENT_PUBLISH_TYPE IN('BookingCongratulations-Presented'),1,0)) AS BOOKED\n",
      "\tFROM \t\tPUBLIC.REACT_NATIVE_EVENTS \n",
      "\tWHERE \t\tCREATED_AT BETWEEN '2021-03-22' AND '2021-04-12'\n",
      "\t\t\t\tAND APP_RELEASE>='6.39.0'\n",
      "\tGROUP BY \t1\n",
      ") E\n",
      "ON \t\t\tO.GUID=E.GUID\n",
      "LEFT JOIN \n",
      "(\n",
      "\t--Get guid-level info from jobs table\n",
      "\tSELECT\t\tposters.guid  AS \"guid\"\n",
      "--\t\t\t\t,MAX(IFF(jobs.first_invoice_submitted_at IS NOT NULL,1,0)) AS \"closed\"\n",
      "\tFROM \t\tjobs  AS jobs\n",
      "\tLEFT JOIN \tusers  AS posters ON jobs.poster_id  = posters.id\n",
      "\tLEFT JOIN \tinvitations AS invitations ON jobs.id = invitations.job_id \n",
      "\tWHERE \t\tTRUE \n",
      "\t\t\t\tAND invitations.sent_state_at BETWEEN '2021-03-22' AND CURRENT_DATE\n",
      "\t\t\t\t--Looker Filters\n",
      "\t\t\t\tAND ((CASE WHEN jobs.poster_rabbit_relationship_id::boolean THEN 1 ELSE 0 END\n",
      "\t\t\t\t) = 0) AND (jobs.v2_id  IS NULL) AND ((CASE WHEN jobs.suppress_level >= 1000  THEN 1 ELSE 0 END\n",
      "\t\t\t\t) = 0) AND ((jobs.fixup_key IS NULL)) AND ((CASE WHEN posters.real_user_id is not null  THEN 1 ELSE 0 END\n",
      "\t\t\t\t) = 0) AND ((CASE WHEN posters.admin::boolean  THEN 1 ELSE 0 END\n",
      "\t\t\t\t) = 0) AND ((CASE WHEN posters.internal::boolean  THEN 1 ELSE 0 END\n",
      "\t\t\t\t) = 0) AND ((CASE WHEN posters.suppress_level >= 1000  THEN 1 ELSE 0 END\n",
      "\t\t\t\t) = 0)\n",
      "\tGROUP BY 1\n",
      "\tORDER BY 1 DESC\n",
      ") J\n",
      "ON \t\t\tO.GUID=J.\"guid\"\n",
      "WHERE \t\tSAW_SEARCH=1 -- Filter for users included in this experiment\n",
      ";\n"
     ]
    }
   ],
   "source": [
    "filepath='/Users/berlincheng/Documents/GitHub/native_search_redesign/search_redesign_dataset_2.sql'\n",
    "data = import_data.fpath_to_df(filepath)"
   ]
  },
  {
   "cell_type": "code",
   "execution_count": 9,
   "metadata": {
    "scrolled": false
   },
   "outputs": [
    {
     "data": {
      "text/plain": [
       "(64181, 5)"
      ]
     },
     "execution_count": 9,
     "metadata": {},
     "output_type": "execute_result"
    }
   ],
   "source": [
    "data.shape"
   ]
  },
  {
   "cell_type": "code",
   "execution_count": 10,
   "metadata": {
    "scrolled": false
   },
   "outputs": [
    {
     "data": {
      "text/plain": [
       "guid          object\n",
       "variation     object\n",
       "search_bfs     int64\n",
       "bfs            int64\n",
       "booked         int64\n",
       "dtype: object"
      ]
     },
     "execution_count": 10,
     "metadata": {},
     "output_type": "execute_result"
    }
   ],
   "source": [
    "data.dtypes"
   ]
  },
  {
   "cell_type": "code",
   "execution_count": 11,
   "metadata": {
    "scrolled": false
   },
   "outputs": [
    {
     "data": {
      "text/html": [
       "<div>\n",
       "<style scoped>\n",
       "    .dataframe tbody tr th:only-of-type {\n",
       "        vertical-align: middle;\n",
       "    }\n",
       "\n",
       "    .dataframe tbody tr th {\n",
       "        vertical-align: top;\n",
       "    }\n",
       "\n",
       "    .dataframe thead th {\n",
       "        text-align: right;\n",
       "    }\n",
       "</style>\n",
       "<table border=\"1\" class=\"dataframe\">\n",
       "  <thead>\n",
       "    <tr style=\"text-align: right;\">\n",
       "      <th></th>\n",
       "      <th>guid</th>\n",
       "      <th>variation</th>\n",
       "      <th>search_bfs</th>\n",
       "      <th>bfs</th>\n",
       "      <th>booked</th>\n",
       "    </tr>\n",
       "  </thead>\n",
       "  <tbody>\n",
       "    <tr>\n",
       "      <th>0</th>\n",
       "      <td>39c97861-b376-46ce-a151-61ab0e70fa2a</td>\n",
       "      <td>search_update</td>\n",
       "      <td>1</td>\n",
       "      <td>1</td>\n",
       "      <td>0</td>\n",
       "    </tr>\n",
       "    <tr>\n",
       "      <th>1</th>\n",
       "      <td>1ad13b3b-a101-4fa3-8df5-45787140f66c</td>\n",
       "      <td>search_update</td>\n",
       "      <td>1</td>\n",
       "      <td>1</td>\n",
       "      <td>1</td>\n",
       "    </tr>\n",
       "    <tr>\n",
       "      <th>2</th>\n",
       "      <td>89a5b955-1da6-7151-13f1-d18a09cd7b4b</td>\n",
       "      <td>search_update</td>\n",
       "      <td>1</td>\n",
       "      <td>1</td>\n",
       "      <td>1</td>\n",
       "    </tr>\n",
       "    <tr>\n",
       "      <th>3</th>\n",
       "      <td>88829d66-a44d-713b-d3e0-31700f96afdb</td>\n",
       "      <td>search_update</td>\n",
       "      <td>1</td>\n",
       "      <td>1</td>\n",
       "      <td>0</td>\n",
       "    </tr>\n",
       "    <tr>\n",
       "      <th>4</th>\n",
       "      <td>88829d66-a44d-713b-d3e0-31700f96afdb</td>\n",
       "      <td>control</td>\n",
       "      <td>1</td>\n",
       "      <td>1</td>\n",
       "      <td>0</td>\n",
       "    </tr>\n",
       "  </tbody>\n",
       "</table>\n",
       "</div>"
      ],
      "text/plain": [
       "                                   guid      variation  search_bfs  bfs  \\\n",
       "0  39c97861-b376-46ce-a151-61ab0e70fa2a  search_update           1    1   \n",
       "1  1ad13b3b-a101-4fa3-8df5-45787140f66c  search_update           1    1   \n",
       "2  89a5b955-1da6-7151-13f1-d18a09cd7b4b  search_update           1    1   \n",
       "3  88829d66-a44d-713b-d3e0-31700f96afdb  search_update           1    1   \n",
       "4  88829d66-a44d-713b-d3e0-31700f96afdb        control           1    1   \n",
       "\n",
       "   booked  \n",
       "0       0  \n",
       "1       1  \n",
       "2       1  \n",
       "3       0  \n",
       "4       0  "
      ]
     },
     "execution_count": 11,
     "metadata": {},
     "output_type": "execute_result"
    }
   ],
   "source": [
    "data.head()"
   ]
  },
  {
   "cell_type": "markdown",
   "metadata": {},
   "source": [
    "### Data Manipulation"
   ]
  },
  {
   "cell_type": "code",
   "execution_count": 12,
   "metadata": {},
   "outputs": [
    {
     "name": "stdout",
     "output_type": "stream",
     "text": [
      "0\n",
      "0\n",
      "0\n"
     ]
    }
   ],
   "source": [
    "# Check for null values\n",
    "print(len(data[data.search_bfs.isna()]))\n",
    "print(len(data[data.bfs.isna()]))\n",
    "print(len(data[data.booked.isna()]))"
   ]
  },
  {
   "cell_type": "markdown",
   "metadata": {},
   "source": [
    "### EDA"
   ]
  },
  {
   "cell_type": "code",
   "execution_count": 13,
   "metadata": {
    "scrolled": true
   },
   "outputs": [
    {
     "name": "stdout",
     "output_type": "stream",
     "text": [
      "32111 + 32070 = 64181\n",
      "64181\n"
     ]
    }
   ],
   "source": [
    "# Split into control vs. search update variants\n",
    "control=data[data.variation=='control']\n",
    "search_update=data[data.variation=='search_update']\n",
    "\n",
    "print(len(control),'+',len(search_update),'=',len(control)+len(search_update))\n",
    "print(len(data))"
   ]
  },
  {
   "cell_type": "markdown",
   "metadata": {},
   "source": [
    "### Run Mann-Whitney Test"
   ]
  },
  {
   "cell_type": "code",
   "execution_count": 14,
   "metadata": {},
   "outputs": [],
   "source": [
    "# mann_whitney function that inputs the control + variant conversion columns\n",
    "def mann_whitney(control,variant,conv):\n",
    "    u_statistic, p_value = stats.mannwhitneyu(control[conv],variant[conv])\n",
    "    print(\"u_statistic: \\t\",u_statistic,\"\\np_value: \\t\",p_value)\n",
    "    if p_value<0.05:\n",
    "        print(\"\\n Mann-Whitney test is significant for \",conv)"
   ]
  },
  {
   "cell_type": "code",
   "execution_count": 15,
   "metadata": {
    "scrolled": false
   },
   "outputs": [
    {
     "name": "stdout",
     "output_type": "stream",
     "text": [
      "u_statistic: \t 509901410.0 \n",
      "p_value: \t 0.0003735694792956129\n",
      "\n",
      " Mann-Whitney test is significant for  search_bfs\n"
     ]
    }
   ],
   "source": [
    "mann_whitney(control,search_update,'search_bfs')"
   ]
  },
  {
   "cell_type": "code",
   "execution_count": 16,
   "metadata": {},
   "outputs": [
    {
     "name": "stdout",
     "output_type": "stream",
     "text": [
      "u_statistic: \t 510837482.5 \n",
      "p_value: \t 4.2913103124285835e-06\n",
      "\n",
      " Mann-Whitney test is significant for  bfs\n"
     ]
    }
   ],
   "source": [
    "mann_whitney(control,search_update,'bfs')"
   ]
  },
  {
   "cell_type": "code",
   "execution_count": 17,
   "metadata": {
    "scrolled": true
   },
   "outputs": [],
   "source": [
    "# mann_whitney(control,search_update,'booked')"
   ]
  },
  {
   "cell_type": "markdown",
   "metadata": {},
   "source": [
    "### Run chi-square test"
   ]
  },
  {
   "cell_type": "code",
   "execution_count": 18,
   "metadata": {},
   "outputs": [],
   "source": [
    "def chi2_test(variations,conv):    \n",
    "    contingency = pd.crosstab(variations, data[conv]) \n",
    "    display(contingency)\n",
    "    \n",
    "    contingency_pct = pd.crosstab(variations, data[conv], normalize='index')\n",
    "    display(contingency_pct)\n",
    "    \n",
    "#     plt.figure(figsize=(4,2)) \n",
    "#     sns.heatmap(contingency, annot=True, cmap=\"YlGnBu\")\n",
    "    \n",
    "    c, p, dof, expected = chi2_contingency(contingency)\n",
    "    print('\\np-value:\\t',p)\n",
    "    if p<0.05:\n",
    "        print(\"\\n Chi-square test is significant for\",conv)"
   ]
  },
  {
   "cell_type": "code",
   "execution_count": 19,
   "metadata": {
    "scrolled": true
   },
   "outputs": [
    {
     "data": {
      "text/html": [
       "<div>\n",
       "<style scoped>\n",
       "    .dataframe tbody tr th:only-of-type {\n",
       "        vertical-align: middle;\n",
       "    }\n",
       "\n",
       "    .dataframe tbody tr th {\n",
       "        vertical-align: top;\n",
       "    }\n",
       "\n",
       "    .dataframe thead th {\n",
       "        text-align: right;\n",
       "    }\n",
       "</style>\n",
       "<table border=\"1\" class=\"dataframe\">\n",
       "  <thead>\n",
       "    <tr style=\"text-align: right;\">\n",
       "      <th>search_bfs</th>\n",
       "      <th>0</th>\n",
       "      <th>1</th>\n",
       "    </tr>\n",
       "    <tr>\n",
       "      <th>variation</th>\n",
       "      <th></th>\n",
       "      <th></th>\n",
       "    </tr>\n",
       "  </thead>\n",
       "  <tbody>\n",
       "    <tr>\n",
       "      <th>control</th>\n",
       "      <td>5228</td>\n",
       "      <td>26883</td>\n",
       "    </tr>\n",
       "    <tr>\n",
       "      <th>search_update</th>\n",
       "      <td>4910</td>\n",
       "      <td>27160</td>\n",
       "    </tr>\n",
       "  </tbody>\n",
       "</table>\n",
       "</div>"
      ],
      "text/plain": [
       "search_bfs        0      1\n",
       "variation                 \n",
       "control        5228  26883\n",
       "search_update  4910  27160"
      ]
     },
     "metadata": {},
     "output_type": "display_data"
    },
    {
     "data": {
      "text/html": [
       "<div>\n",
       "<style scoped>\n",
       "    .dataframe tbody tr th:only-of-type {\n",
       "        vertical-align: middle;\n",
       "    }\n",
       "\n",
       "    .dataframe tbody tr th {\n",
       "        vertical-align: top;\n",
       "    }\n",
       "\n",
       "    .dataframe thead th {\n",
       "        text-align: right;\n",
       "    }\n",
       "</style>\n",
       "<table border=\"1\" class=\"dataframe\">\n",
       "  <thead>\n",
       "    <tr style=\"text-align: right;\">\n",
       "      <th>search_bfs</th>\n",
       "      <th>0</th>\n",
       "      <th>1</th>\n",
       "    </tr>\n",
       "    <tr>\n",
       "      <th>variation</th>\n",
       "      <th></th>\n",
       "      <th></th>\n",
       "    </tr>\n",
       "  </thead>\n",
       "  <tbody>\n",
       "    <tr>\n",
       "      <th>control</th>\n",
       "      <td>0.162810</td>\n",
       "      <td>0.837190</td>\n",
       "    </tr>\n",
       "    <tr>\n",
       "      <th>search_update</th>\n",
       "      <td>0.153103</td>\n",
       "      <td>0.846897</td>\n",
       "    </tr>\n",
       "  </tbody>\n",
       "</table>\n",
       "</div>"
      ],
      "text/plain": [
       "search_bfs            0         1\n",
       "variation                        \n",
       "control        0.162810  0.837190\n",
       "search_update  0.153103  0.846897"
      ]
     },
     "metadata": {},
     "output_type": "display_data"
    },
    {
     "name": "stdout",
     "output_type": "stream",
     "text": [
      "\n",
      "p-value:\t 0.0007769642383121018\n",
      "\n",
      " Chi-square test is significant for search_bfs\n"
     ]
    }
   ],
   "source": [
    "chi2_test(data['variation'],'search_bfs')"
   ]
  },
  {
   "cell_type": "code",
   "execution_count": 20,
   "metadata": {
    "scrolled": false
   },
   "outputs": [
    {
     "data": {
      "text/html": [
       "<div>\n",
       "<style scoped>\n",
       "    .dataframe tbody tr th:only-of-type {\n",
       "        vertical-align: middle;\n",
       "    }\n",
       "\n",
       "    .dataframe tbody tr th {\n",
       "        vertical-align: top;\n",
       "    }\n",
       "\n",
       "    .dataframe thead th {\n",
       "        text-align: right;\n",
       "    }\n",
       "</style>\n",
       "<table border=\"1\" class=\"dataframe\">\n",
       "  <thead>\n",
       "    <tr style=\"text-align: right;\">\n",
       "      <th>bfs</th>\n",
       "      <th>0</th>\n",
       "      <th>1</th>\n",
       "    </tr>\n",
       "    <tr>\n",
       "      <th>variation</th>\n",
       "      <th></th>\n",
       "      <th></th>\n",
       "    </tr>\n",
       "  </thead>\n",
       "  <tbody>\n",
       "    <tr>\n",
       "      <th>control</th>\n",
       "      <td>1584</td>\n",
       "      <td>30527</td>\n",
       "    </tr>\n",
       "    <tr>\n",
       "      <th>search_update</th>\n",
       "      <td>1835</td>\n",
       "      <td>30235</td>\n",
       "    </tr>\n",
       "  </tbody>\n",
       "</table>\n",
       "</div>"
      ],
      "text/plain": [
       "bfs               0      1\n",
       "variation                 \n",
       "control        1584  30527\n",
       "search_update  1835  30235"
      ]
     },
     "metadata": {},
     "output_type": "display_data"
    },
    {
     "data": {
      "text/html": [
       "<div>\n",
       "<style scoped>\n",
       "    .dataframe tbody tr th:only-of-type {\n",
       "        vertical-align: middle;\n",
       "    }\n",
       "\n",
       "    .dataframe tbody tr th {\n",
       "        vertical-align: top;\n",
       "    }\n",
       "\n",
       "    .dataframe thead th {\n",
       "        text-align: right;\n",
       "    }\n",
       "</style>\n",
       "<table border=\"1\" class=\"dataframe\">\n",
       "  <thead>\n",
       "    <tr style=\"text-align: right;\">\n",
       "      <th>bfs</th>\n",
       "      <th>0</th>\n",
       "      <th>1</th>\n",
       "    </tr>\n",
       "    <tr>\n",
       "      <th>variation</th>\n",
       "      <th></th>\n",
       "      <th></th>\n",
       "    </tr>\n",
       "  </thead>\n",
       "  <tbody>\n",
       "    <tr>\n",
       "      <th>control</th>\n",
       "      <td>0.049329</td>\n",
       "      <td>0.950671</td>\n",
       "    </tr>\n",
       "    <tr>\n",
       "      <th>search_update</th>\n",
       "      <td>0.057219</td>\n",
       "      <td>0.942781</td>\n",
       "    </tr>\n",
       "  </tbody>\n",
       "</table>\n",
       "</div>"
      ],
      "text/plain": [
       "bfs                   0         1\n",
       "variation                        \n",
       "control        0.049329  0.950671\n",
       "search_update  0.057219  0.942781"
      ]
     },
     "metadata": {},
     "output_type": "display_data"
    },
    {
     "name": "stdout",
     "output_type": "stream",
     "text": [
      "\n",
      "p-value:\t 9.311698358232917e-06\n",
      "\n",
      " Chi-square test is significant for bfs\n"
     ]
    }
   ],
   "source": [
    "chi2_test(data['variation'],'bfs')"
   ]
  },
  {
   "cell_type": "code",
   "execution_count": 21,
   "metadata": {},
   "outputs": [],
   "source": [
    "# chi2_test(data['variation'],'booked')"
   ]
  },
  {
   "cell_type": "markdown",
   "metadata": {},
   "source": [
    "### Run Fishers Test"
   ]
  },
  {
   "cell_type": "code",
   "execution_count": 22,
   "metadata": {},
   "outputs": [],
   "source": [
    "def fisher_exact(variations,conv):    \n",
    "    contingency = pd.crosstab(variations, data[conv]) \n",
    "    display(contingency)\n",
    "    \n",
    "    oddsratio, p_value = stats.fisher_exact(contingency)\n",
    "\n",
    "    print('\\np-value:\\t',p_value)\n",
    "    if p_value<0.05:\n",
    "        print(\"\\n Fisher exact test is significant for\",conv)"
   ]
  },
  {
   "cell_type": "code",
   "execution_count": 23,
   "metadata": {},
   "outputs": [
    {
     "data": {
      "text/html": [
       "<div>\n",
       "<style scoped>\n",
       "    .dataframe tbody tr th:only-of-type {\n",
       "        vertical-align: middle;\n",
       "    }\n",
       "\n",
       "    .dataframe tbody tr th {\n",
       "        vertical-align: top;\n",
       "    }\n",
       "\n",
       "    .dataframe thead th {\n",
       "        text-align: right;\n",
       "    }\n",
       "</style>\n",
       "<table border=\"1\" class=\"dataframe\">\n",
       "  <thead>\n",
       "    <tr style=\"text-align: right;\">\n",
       "      <th>search_bfs</th>\n",
       "      <th>0</th>\n",
       "      <th>1</th>\n",
       "    </tr>\n",
       "    <tr>\n",
       "      <th>variation</th>\n",
       "      <th></th>\n",
       "      <th></th>\n",
       "    </tr>\n",
       "  </thead>\n",
       "  <tbody>\n",
       "    <tr>\n",
       "      <th>control</th>\n",
       "      <td>5228</td>\n",
       "      <td>26883</td>\n",
       "    </tr>\n",
       "    <tr>\n",
       "      <th>search_update</th>\n",
       "      <td>4910</td>\n",
       "      <td>27160</td>\n",
       "    </tr>\n",
       "  </tbody>\n",
       "</table>\n",
       "</div>"
      ],
      "text/plain": [
       "search_bfs        0      1\n",
       "variation                 \n",
       "control        5228  26883\n",
       "search_update  4910  27160"
      ]
     },
     "metadata": {},
     "output_type": "display_data"
    },
    {
     "name": "stdout",
     "output_type": "stream",
     "text": [
      "\n",
      "p-value:\t 0.0007621460540294376\n",
      "\n",
      " Fisher exact test is significant for search_bfs\n"
     ]
    }
   ],
   "source": [
    "fisher_exact(data['variation'],'search_bfs')"
   ]
  },
  {
   "cell_type": "code",
   "execution_count": 24,
   "metadata": {},
   "outputs": [
    {
     "data": {
      "text/html": [
       "<div>\n",
       "<style scoped>\n",
       "    .dataframe tbody tr th:only-of-type {\n",
       "        vertical-align: middle;\n",
       "    }\n",
       "\n",
       "    .dataframe tbody tr th {\n",
       "        vertical-align: top;\n",
       "    }\n",
       "\n",
       "    .dataframe thead th {\n",
       "        text-align: right;\n",
       "    }\n",
       "</style>\n",
       "<table border=\"1\" class=\"dataframe\">\n",
       "  <thead>\n",
       "    <tr style=\"text-align: right;\">\n",
       "      <th>bfs</th>\n",
       "      <th>0</th>\n",
       "      <th>1</th>\n",
       "    </tr>\n",
       "    <tr>\n",
       "      <th>variation</th>\n",
       "      <th></th>\n",
       "      <th></th>\n",
       "    </tr>\n",
       "  </thead>\n",
       "  <tbody>\n",
       "    <tr>\n",
       "      <th>control</th>\n",
       "      <td>1584</td>\n",
       "      <td>30527</td>\n",
       "    </tr>\n",
       "    <tr>\n",
       "      <th>search_update</th>\n",
       "      <td>1835</td>\n",
       "      <td>30235</td>\n",
       "    </tr>\n",
       "  </tbody>\n",
       "</table>\n",
       "</div>"
      ],
      "text/plain": [
       "bfs               0      1\n",
       "variation                 \n",
       "control        1584  30527\n",
       "search_update  1835  30235"
      ]
     },
     "metadata": {},
     "output_type": "display_data"
    },
    {
     "name": "stdout",
     "output_type": "stream",
     "text": [
      "\n",
      "p-value:\t 8.65625179513771e-06\n",
      "\n",
      " Fisher exact test is significant for bfs\n"
     ]
    }
   ],
   "source": [
    "fisher_exact(data['variation'],'bfs')"
   ]
  },
  {
   "cell_type": "code",
   "execution_count": 25,
   "metadata": {},
   "outputs": [
    {
     "data": {
      "text/html": [
       "<div>\n",
       "<style scoped>\n",
       "    .dataframe tbody tr th:only-of-type {\n",
       "        vertical-align: middle;\n",
       "    }\n",
       "\n",
       "    .dataframe tbody tr th {\n",
       "        vertical-align: top;\n",
       "    }\n",
       "\n",
       "    .dataframe thead th {\n",
       "        text-align: right;\n",
       "    }\n",
       "</style>\n",
       "<table border=\"1\" class=\"dataframe\">\n",
       "  <thead>\n",
       "    <tr style=\"text-align: right;\">\n",
       "      <th>booked</th>\n",
       "      <th>0</th>\n",
       "      <th>1</th>\n",
       "    </tr>\n",
       "    <tr>\n",
       "      <th>variation</th>\n",
       "      <th></th>\n",
       "      <th></th>\n",
       "    </tr>\n",
       "  </thead>\n",
       "  <tbody>\n",
       "    <tr>\n",
       "      <th>control</th>\n",
       "      <td>23049</td>\n",
       "      <td>9062</td>\n",
       "    </tr>\n",
       "    <tr>\n",
       "      <th>search_update</th>\n",
       "      <td>22952</td>\n",
       "      <td>9118</td>\n",
       "    </tr>\n",
       "  </tbody>\n",
       "</table>\n",
       "</div>"
      ],
      "text/plain": [
       "booked             0     1\n",
       "variation                 \n",
       "control        23049  9062\n",
       "search_update  22952  9118"
      ]
     },
     "metadata": {},
     "output_type": "display_data"
    },
    {
     "name": "stdout",
     "output_type": "stream",
     "text": [
      "\n",
      "p-value:\t 0.5572434120520017\n"
     ]
    }
   ],
   "source": [
    "fisher_exact(data['variation'],'booked')"
   ]
  },
  {
   "cell_type": "markdown",
   "metadata": {},
   "source": [
    "### Calculate lift across search BFS, overall BFS, and booking rates"
   ]
  },
  {
   "cell_type": "code",
   "execution_count": 26,
   "metadata": {},
   "outputs": [
    {
     "data": {
      "text/plain": [
       "3.23"
      ]
     },
     "execution_count": 26,
     "metadata": {},
     "output_type": "execute_result"
    }
   ],
   "source": [
    "round(3.23432,2)"
   ]
  },
  {
   "cell_type": "code",
   "execution_count": 64,
   "metadata": {},
   "outputs": [],
   "source": [
    "# calculate_lift function that inputs the control + variant dfs\n",
    "def calculate_lift(control,variant,conv):\n",
    "    control_conv=100*(control[conv].sum()/control['guid'].count())\n",
    "    print('CONTROL')\n",
    "    print('total visitors:',control['guid'].count())\n",
    "    print('unique conversions:',control[conv].sum())\n",
    "    print('control ',conv,' rate:','%.2f'%control_conv)\n",
    "\n",
    "    print('\\nVARIANT')\n",
    "    print('total visitors:',variant['guid'].count())\n",
    "    print('unique conversions:',variant[conv].sum())\n",
    "    variant_conv=100*(variant[conv].sum()/variant['guid'].count())\n",
    "    print('variant ',conv,' rate:','%.2f'%variant_conv)\n",
    "    \n",
    "    print('\\nLIFT - CONTROL VS. VARIANT')\n",
    "    lift_magnitude = variant_conv-control_conv\n",
    "    lift_pct = 100*(lift_magnitude/control_conv)\n",
    "#     print('Lift (magnitude) in',conv,':','%.2f'%lift_magnitude)\n",
    "    print('Lift (percent) in',conv,':','%.2f'%lift_pct,'percent','(','%.2f'%control_conv,'vs.','%.2f'%variant_conv,')')"
   ]
  },
  {
   "cell_type": "code",
   "execution_count": 65,
   "metadata": {
    "scrolled": false
   },
   "outputs": [
    {
     "name": "stdout",
     "output_type": "stream",
     "text": [
      "CONTROL\n",
      "total visitors: 32111\n",
      "unique conversions: 26883\n",
      "control  search_bfs  rate: 83.72\n",
      "\n",
      "VARIANT\n",
      "total visitors: 32070\n",
      "unique conversions: 27160\n",
      "variant  search_bfs  rate: 84.69\n",
      "\n",
      "LIFT - CONTROL VS. VARIANT\n",
      "Lift (percent) in search_bfs : 1.16 percent ( 83.72 vs. 84.69 )\n"
     ]
    }
   ],
   "source": [
    "calculate_lift(control,search_update,'search_bfs')"
   ]
  },
  {
   "cell_type": "code",
   "execution_count": 66,
   "metadata": {
    "scrolled": true
   },
   "outputs": [
    {
     "name": "stdout",
     "output_type": "stream",
     "text": [
      "CONTROL\n",
      "total visitors: 32111\n",
      "unique conversions: 30527\n",
      "control  bfs  rate: 95.07\n",
      "\n",
      "VARIANT\n",
      "total visitors: 32070\n",
      "unique conversions: 30235\n",
      "variant  bfs  rate: 94.28\n",
      "\n",
      "LIFT - CONTROL VS. VARIANT\n",
      "Lift (percent) in bfs : -0.83 percent ( 95.07 vs. 94.28 )\n"
     ]
    }
   ],
   "source": [
    "calculate_lift(control,search_update,'bfs')"
   ]
  },
  {
   "cell_type": "code",
   "execution_count": 67,
   "metadata": {
    "scrolled": true
   },
   "outputs": [
    {
     "name": "stdout",
     "output_type": "stream",
     "text": [
      "CONTROL\n",
      "total visitors: 32111\n",
      "unique conversions: 9062\n",
      "control  booked  rate: 28.22\n",
      "\n",
      "VARIANT\n",
      "total visitors: 32070\n",
      "unique conversions: 9118\n",
      "variant  booked  rate: 28.43\n",
      "\n",
      "LIFT - CONTROL VS. VARIANT\n",
      "Lift (percent) in booked : 0.75 percent ( 28.22 vs. 28.43 )\n"
     ]
    }
   ],
   "source": [
    "calculate_lift(control,search_update,'booked')"
   ]
  }
 ],
 "metadata": {
  "kernelspec": {
   "display_name": "Python 3",
   "language": "python",
   "name": "python3"
  },
  "language_info": {
   "codemirror_mode": {
    "name": "ipython",
    "version": 3
   },
   "file_extension": ".py",
   "mimetype": "text/x-python",
   "name": "python",
   "nbconvert_exporter": "python",
   "pygments_lexer": "ipython3",
   "version": "3.8.3"
  }
 },
 "nbformat": 4,
 "nbformat_minor": 4
}
