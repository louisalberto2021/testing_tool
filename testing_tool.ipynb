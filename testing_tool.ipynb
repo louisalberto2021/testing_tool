{
 "cells": [
  {
   "cell_type": "code",
   "execution_count": null,
   "metadata": {},
   "outputs": [],
   "source": [
    "# Things left to do\n",
    "# Need to map to optimizely_dashbaord_results to figure out which"
   ]
  },
  {
   "cell_type": "code",
   "execution_count": 4,
   "metadata": {},
   "outputs": [],
   "source": [
    "import import_ipynb\n",
    "import os\n",
    "\n",
    "import pandas as pd\n",
    "import matplotlib\n",
    "import matplotlib.pyplot as plt\n",
    "import numpy as np\n",
    "import datetime as dt\n",
    "from datetime import date\n",
    "\n",
    "import scipy.stats as stats\n",
    "from scipy.stats import chi2_contingency\n",
    "import seaborn as sns"
   ]
  },
  {
   "cell_type": "code",
   "execution_count": 8,
   "metadata": {
    "scrolled": false
   },
   "outputs": [
    {
     "name": "stdout",
     "output_type": "stream",
     "text": [
      "importing Jupyter notebook from import_data.ipynb\n",
      "Connected to snowflake. Now read in query = open('/Folder Directory/sql_query_of_data.sql','r').read()\n"
     ]
    }
   ],
   "source": [
    "import import_data"
   ]
  },
  {
   "cell_type": "markdown",
   "metadata": {},
   "source": [
    "### Input Variables"
   ]
  },
  {
   "cell_type": "code",
   "execution_count": 251,
   "metadata": {},
   "outputs": [
    {
     "name": "stdout",
     "output_type": "stream",
     "text": [
      "AND (EXPERIMENT_ID LIKE '%20053754433%') \n",
      " invitationSent\n"
     ]
    }
   ],
   "source": [
    "# Input variables\n",
    "experiment_id = '20053754433'\n",
    "conv_event = 'invitationSent'\n",
    "\n",
    "temp_experiment_filter = 'AND (EXPERIMENT_ID LIKE \\'%'+experiment_id+'%\\')'\n",
    "\n",
    "print(temp_experiment_filter,'\\n',conv_event)"
   ]
  },
  {
   "cell_type": "markdown",
   "metadata": {},
   "source": [
    "### Import data"
   ]
  },
  {
   "cell_type": "markdown",
   "metadata": {},
   "source": [
    "#### Import Dashboard Results"
   ]
  },
  {
   "cell_type": "code",
   "execution_count": 9,
   "metadata": {
    "scrolled": false
   },
   "outputs": [],
   "source": [
    "# query =\\\n",
    "# \"\"\"\n",
    "# SELECT \t\tEXPERIMENT_ID AS \"experiment_id\"\n",
    "# \t\t,EXPERIMENT_NAME AS \"experiment_name\"\n",
    "# \t\t,VARIATION_ID AS \"variation_id\"\n",
    "# \t\t,VARIATION_NAME AS \"variation_name\"\n",
    "# \t\t,MAX(IS_BASELINE_VARIATION) AS \"is_baseline_variation\"\n",
    "# --\t\t\t,MIN(START_TIME_UTC),MAX(END_TIME_UTC),COUNT(DISTINCT VARIATION_ID),MAX(VARIATION_ID),MIN(VARIATION_ID)\n",
    "# FROM \t\tPUBLIC.OPTIMIZELY_DASHBOARD_RESULTS \n",
    "# WHERE \t\tEXPERIMENT_NAME LIKE 'growth-%'\n",
    "# GROUP BY \t1,2,3,4\n",
    "# HAVING \t\tDATEDIFF(DD,MAX(END_TIME_UTC),CURRENT_DATE) BETWEEN 0 AND 1\n",
    "# ORDER BY \tMAX(END_TIME_UTC) DESC, EXPERIMENT_NAME DESC\n",
    "# \"\"\"\n",
    "# db_results = import_data.query_to_df(query)\n",
    "# db_results"
   ]
  },
  {
   "cell_type": "markdown",
   "metadata": {},
   "source": [
    "#### Import IMPR_EVENTS"
   ]
  },
  {
   "cell_type": "code",
   "execution_count": 10,
   "metadata": {},
   "outputs": [],
   "source": [
    "# query =\\"
   ]
  },
  {
   "cell_type": "markdown",
   "metadata": {},
   "source": [
    "#### Import ENR_DECI"
   ]
  },
  {
   "cell_type": "code",
   "execution_count": 11,
   "metadata": {
    "scrolled": false
   },
   "outputs": [
    {
     "name": "stdout",
     "output_type": "stream",
     "text": [
      "\n",
      "SELECT\t VISITOR_ID AS \"visitor_id\"\n",
      "\t\t,EXPERIMENT_ID AS \"experiment_id\"\n",
      "\t\t,VARIATION_ID AS \"variation_id\"\n",
      "\t\t,GUID AS \"guid\"\n",
      "\t\t,ENVIRONMENT AS \"environment\"\n",
      "\t\t,TIMESTAMP AS \"timestamp\"\n",
      "FROM PUBLIC.OPTIMIZELY_ENR_DECI \n",
      "WHERE ENVIRONMENT='production'\n",
      "AND (EXPERIMENT_ID LIKE '%20053754433%')\n"
     ]
    }
   ],
   "source": [
    "# Test enr_deci query for now\n",
    "query =\\\n",
    "\"\"\"\n",
    "SELECT\t VISITOR_ID AS \"visitor_id\"\n",
    "\t\t,EXPERIMENT_ID AS \"experiment_id\"\n",
    "\t\t,VARIATION_ID AS \"variation_id\"\n",
    "\t\t,GUID AS \"guid\"\n",
    "\t\t,ENVIRONMENT AS \"environment\"\n",
    "\t\t,TIMESTAMP AS \"timestamp\"\n",
    "FROM PUBLIC.OPTIMIZELY_ENR_DECI \n",
    "WHERE ENVIRONMENT='production'\n",
    "\"\"\"\\\n",
    "+temp_experiment_filter\n",
    "# WHERE CREATED_AT >= \"\"\"+'\\''+dt_from.strftime(\"%Y-%m-%d\")+'\\''\n",
    "\n",
    "enr_deci = import_data.query_to_df(query)"
   ]
  },
  {
   "cell_type": "code",
   "execution_count": 12,
   "metadata": {
    "scrolled": false
   },
   "outputs": [
    {
     "data": {
      "text/html": [
       "<div>\n",
       "<style scoped>\n",
       "    .dataframe tbody tr th:only-of-type {\n",
       "        vertical-align: middle;\n",
       "    }\n",
       "\n",
       "    .dataframe tbody tr th {\n",
       "        vertical-align: top;\n",
       "    }\n",
       "\n",
       "    .dataframe thead th {\n",
       "        text-align: right;\n",
       "    }\n",
       "</style>\n",
       "<table border=\"1\" class=\"dataframe\">\n",
       "  <thead>\n",
       "    <tr style=\"text-align: right;\">\n",
       "      <th></th>\n",
       "      <th>visitor_id</th>\n",
       "      <th>experiment_id</th>\n",
       "      <th>variation_id</th>\n",
       "      <th>guid</th>\n",
       "      <th>environment</th>\n",
       "      <th>timestamp</th>\n",
       "    </tr>\n",
       "  </thead>\n",
       "  <tbody>\n",
       "    <tr>\n",
       "      <th>0</th>\n",
       "      <td>5f76895e-2979-4cfc-82a7-5897028f454a</td>\n",
       "      <td>20053754433</td>\n",
       "      <td>20057713467</td>\n",
       "      <td>27f9b402-6f8d-25eb-8070-38c4c969916c</td>\n",
       "      <td>production</td>\n",
       "      <td>2021-03-19 16:56:22.871</td>\n",
       "    </tr>\n",
       "    <tr>\n",
       "      <th>1</th>\n",
       "      <td>74720145-6055-8c7f-804b-7af3c89044ae</td>\n",
       "      <td>20053754433</td>\n",
       "      <td>20041984016</td>\n",
       "      <td>68d2e698-2058-24fd-54da-a698e5cde600</td>\n",
       "      <td>production</td>\n",
       "      <td>2021-03-19 00:04:17.877</td>\n",
       "    </tr>\n",
       "    <tr>\n",
       "      <th>2</th>\n",
       "      <td>68419b6f-345f-40ee-9df7-d04a7352431d</td>\n",
       "      <td>20053754433</td>\n",
       "      <td>20041984016</td>\n",
       "      <td>68419b6f-345f-40ee-9df7-d04a7352431d</td>\n",
       "      <td>production</td>\n",
       "      <td>2021-03-19 18:00:45.946</td>\n",
       "    </tr>\n",
       "    <tr>\n",
       "      <th>3</th>\n",
       "      <td>e6cb650f-ab06-48d6-ba1a-6a8d3d6c00f8</td>\n",
       "      <td>20053754433</td>\n",
       "      <td>20057713467</td>\n",
       "      <td>e6cb650f-ab06-48d6-ba1a-6a8d3d6c00f8</td>\n",
       "      <td>production</td>\n",
       "      <td>2021-03-19 22:59:25.832</td>\n",
       "    </tr>\n",
       "    <tr>\n",
       "      <th>4</th>\n",
       "      <td>7268b926-985d-c08b-be54-276c32d7cbd1</td>\n",
       "      <td>20053754433</td>\n",
       "      <td>20041984016</td>\n",
       "      <td>e433d1f4-46f9-4455-a9ff-3d1aa957fad0</td>\n",
       "      <td>production</td>\n",
       "      <td>2021-03-19 21:17:23.496</td>\n",
       "    </tr>\n",
       "  </tbody>\n",
       "</table>\n",
       "</div>"
      ],
      "text/plain": [
       "                             visitor_id experiment_id variation_id  \\\n",
       "0  5f76895e-2979-4cfc-82a7-5897028f454a   20053754433  20057713467   \n",
       "1  74720145-6055-8c7f-804b-7af3c89044ae   20053754433  20041984016   \n",
       "2  68419b6f-345f-40ee-9df7-d04a7352431d   20053754433  20041984016   \n",
       "3  e6cb650f-ab06-48d6-ba1a-6a8d3d6c00f8   20053754433  20057713467   \n",
       "4  7268b926-985d-c08b-be54-276c32d7cbd1   20053754433  20041984016   \n",
       "\n",
       "                                   guid environment               timestamp  \n",
       "0  27f9b402-6f8d-25eb-8070-38c4c969916c  production 2021-03-19 16:56:22.871  \n",
       "1  68d2e698-2058-24fd-54da-a698e5cde600  production 2021-03-19 00:04:17.877  \n",
       "2  68419b6f-345f-40ee-9df7-d04a7352431d  production 2021-03-19 18:00:45.946  \n",
       "3  e6cb650f-ab06-48d6-ba1a-6a8d3d6c00f8  production 2021-03-19 22:59:25.832  \n",
       "4  e433d1f4-46f9-4455-a9ff-3d1aa957fad0  production 2021-03-19 21:17:23.496  "
      ]
     },
     "execution_count": 12,
     "metadata": {},
     "output_type": "execute_result"
    }
   ],
   "source": [
    "enr_deci.head()"
   ]
  },
  {
   "cell_type": "markdown",
   "metadata": {},
   "source": [
    "#### Import ENR_CONV"
   ]
  },
  {
   "cell_type": "code",
   "execution_count": 13,
   "metadata": {
    "scrolled": false
   },
   "outputs": [
    {
     "name": "stdout",
     "output_type": "stream",
     "text": [
      "\n",
      "SELECT\t VISITOR_ID AS \"visitor_id\"\n",
      "        ,EVENT_NAME AS \"event_name\"\n",
      "\t\t,EXPERIMENT_ID AS \"experiment_id\"\n",
      "\t\t,VARIATION_ID AS \"variation_id\"\n",
      "\t\t,GUID AS \"guid\"\n",
      "\t\t,TIMESTAMP AS \"timestamp\"\n",
      "FROM PUBLIC.OPTIMIZELY_ENR_CONV\n",
      "WHERE ENVIRONMENT='production'\n",
      "AND (EXPERIMENT_ID LIKE '%20053754433%')\n"
     ]
    }
   ],
   "source": [
    "# Test enr_conv query for now\n",
    "query =\\\n",
    "\"\"\"\n",
    "SELECT\t VISITOR_ID AS \"visitor_id\"\n",
    "        ,EVENT_NAME AS \"event_name\"\n",
    "\t\t,EXPERIMENT_ID AS \"experiment_id\"\n",
    "\t\t,VARIATION_ID AS \"variation_id\"\n",
    "\t\t,GUID AS \"guid\"\n",
    "\t\t,TIMESTAMP AS \"timestamp\"\n",
    "FROM PUBLIC.OPTIMIZELY_ENR_CONV\n",
    "WHERE ENVIRONMENT='production'\n",
    "\"\"\"\\\n",
    "+temp_experiment_filter\n",
    "\n",
    "enr_conv=import_data.query_to_df(query)"
   ]
  },
  {
   "cell_type": "code",
   "execution_count": 14,
   "metadata": {
    "scrolled": true
   },
   "outputs": [
    {
     "data": {
      "text/html": [
       "<div>\n",
       "<style scoped>\n",
       "    .dataframe tbody tr th:only-of-type {\n",
       "        vertical-align: middle;\n",
       "    }\n",
       "\n",
       "    .dataframe tbody tr th {\n",
       "        vertical-align: top;\n",
       "    }\n",
       "\n",
       "    .dataframe thead th {\n",
       "        text-align: right;\n",
       "    }\n",
       "</style>\n",
       "<table border=\"1\" class=\"dataframe\">\n",
       "  <thead>\n",
       "    <tr style=\"text-align: right;\">\n",
       "      <th></th>\n",
       "      <th>visitor_id</th>\n",
       "      <th>event_name</th>\n",
       "      <th>experiment_id</th>\n",
       "      <th>variation_id</th>\n",
       "      <th>guid</th>\n",
       "      <th>timestamp</th>\n",
       "    </tr>\n",
       "  </thead>\n",
       "  <tbody>\n",
       "    <tr>\n",
       "      <th>0</th>\n",
       "      <td>94955520-3170-4cfc-8dec-3415c219dd8e</td>\n",
       "      <td>Recommendations Badge Filter Changed</td>\n",
       "      <td>19978184566, 20053754433, 19947312075</td>\n",
       "      <td>19971631161, 20041984016, 19924881859</td>\n",
       "      <td>94955520-3170-4cfc-8dec-3415c219dd8e</td>\n",
       "      <td>2021-03-16 17:52:22.972</td>\n",
       "    </tr>\n",
       "    <tr>\n",
       "      <th>1</th>\n",
       "      <td>de326e3a-7f32-4e5f-9df7-656e4d01b33e</td>\n",
       "      <td>Recommendations Viewed</td>\n",
       "      <td>19978184566, 20053754433, 19947312075, 198951...</td>\n",
       "      <td>19980937118, 20041984016, 19945381330, 199074...</td>\n",
       "      <td>de326e3a-7f32-4e5f-9df7-656e4d01b33e</td>\n",
       "      <td>2021-03-16 19:03:24.315</td>\n",
       "    </tr>\n",
       "    <tr>\n",
       "      <th>2</th>\n",
       "      <td>d92cbeb2-1630-4ae5-ae99-74d948bc58db</td>\n",
       "      <td>Recommendations Viewed--homepage</td>\n",
       "      <td>19978184566, 20053754433, 19947312075, 198951...</td>\n",
       "      <td>19971631161, 20057713467, 19924881859, 199074...</td>\n",
       "      <td>d92cbeb2-1630-4ae5-ae99-74d948bc58db</td>\n",
       "      <td>2021-03-16 18:57:33.731</td>\n",
       "    </tr>\n",
       "    <tr>\n",
       "      <th>3</th>\n",
       "      <td>e036ddd9-648c-4c6d-85c4-2df39d4cfec5</td>\n",
       "      <td>Form Viewed--homepage</td>\n",
       "      <td>19978184566, 20053754433, 19847400444, 199473...</td>\n",
       "      <td>19971631161, 20057713467, 19732568477, 199248...</td>\n",
       "      <td>e036ddd9-648c-4c6d-85c4-2df39d4cfec5</td>\n",
       "      <td>2021-03-16 20:48:47.048</td>\n",
       "    </tr>\n",
       "    <tr>\n",
       "      <th>4</th>\n",
       "      <td>ceda5767-c091-4ee5-9595-c7d223e08605</td>\n",
       "      <td>Form Viewed</td>\n",
       "      <td>20053754433</td>\n",
       "      <td>20041984016</td>\n",
       "      <td>ceda5767-c091-4ee5-9595-c7d223e08605</td>\n",
       "      <td>2021-03-16 19:59:37.589</td>\n",
       "    </tr>\n",
       "  </tbody>\n",
       "</table>\n",
       "</div>"
      ],
      "text/plain": [
       "                             visitor_id                            event_name  \\\n",
       "0  94955520-3170-4cfc-8dec-3415c219dd8e  Recommendations Badge Filter Changed   \n",
       "1  de326e3a-7f32-4e5f-9df7-656e4d01b33e                Recommendations Viewed   \n",
       "2  d92cbeb2-1630-4ae5-ae99-74d948bc58db      Recommendations Viewed--homepage   \n",
       "3  e036ddd9-648c-4c6d-85c4-2df39d4cfec5                 Form Viewed--homepage   \n",
       "4  ceda5767-c091-4ee5-9595-c7d223e08605                           Form Viewed   \n",
       "\n",
       "                                       experiment_id  \\\n",
       "0              19978184566, 20053754433, 19947312075   \n",
       "1   19978184566, 20053754433, 19947312075, 198951...   \n",
       "2   19978184566, 20053754433, 19947312075, 198951...   \n",
       "3   19978184566, 20053754433, 19847400444, 199473...   \n",
       "4                                        20053754433   \n",
       "\n",
       "                                        variation_id  \\\n",
       "0              19971631161, 20041984016, 19924881859   \n",
       "1   19980937118, 20041984016, 19945381330, 199074...   \n",
       "2   19971631161, 20057713467, 19924881859, 199074...   \n",
       "3   19971631161, 20057713467, 19732568477, 199248...   \n",
       "4                                        20041984016   \n",
       "\n",
       "                                   guid               timestamp  \n",
       "0  94955520-3170-4cfc-8dec-3415c219dd8e 2021-03-16 17:52:22.972  \n",
       "1  de326e3a-7f32-4e5f-9df7-656e4d01b33e 2021-03-16 19:03:24.315  \n",
       "2  d92cbeb2-1630-4ae5-ae99-74d948bc58db 2021-03-16 18:57:33.731  \n",
       "3  e036ddd9-648c-4c6d-85c4-2df39d4cfec5 2021-03-16 20:48:47.048  \n",
       "4  ceda5767-c091-4ee5-9595-c7d223e08605 2021-03-16 19:59:37.589  "
      ]
     },
     "execution_count": 14,
     "metadata": {},
     "output_type": "execute_result"
    }
   ],
   "source": [
    "enr_conv.head()"
   ]
  },
  {
   "cell_type": "markdown",
   "metadata": {},
   "source": [
    "#### Import DW_EVENTS"
   ]
  },
  {
   "cell_type": "code",
   "execution_count": 75,
   "metadata": {},
   "outputs": [
    {
     "name": "stdout",
     "output_type": "stream",
     "text": [
      "\n",
      "SELECT DISTINCT GUID AS \"guid\",CLIENT_PUBLISH_TYPE AS \"client_publish_type\",CREATED_AT AS \"created_at\",'web' AS \"platform\"\n",
      "FROM PUBLIC.JOB_FLOW_EVENTS\n",
      "\n"
     ]
    }
   ],
   "source": [
    "# Set platform \n",
    "platform = 'web'\n",
    "\n",
    "web_query =\\\n",
    "\"\"\"\n",
    "SELECT DISTINCT GUID AS \"guid\",CLIENT_PUBLISH_TYPE AS \"client_publish_type\",CREATED_AT AS \"created_at\",'web' AS \"platform\"\n",
    "FROM PUBLIC.JOB_FLOW_EVENTS\n",
    "\"\"\"\n",
    "\n",
    "native_query =\\\n",
    "\"\"\"\n",
    "SELECT DISTINCT GUID AS \"guid\",CLIENT_PUBLISH_TYPE AS \"client_publish_type\",CREATED_AT AS \"created_at\",'native' AS \"platform\"\n",
    "FROM PUBLIC.REACT_NATIVE_EVENTS\n",
    "\"\"\"\n",
    "\n",
    "if platform == 'web':\n",
    "    dw_query = web_query\n",
    "elif platform == 'native':\n",
    "    dw_query = native_query\n",
    "elif platform == 'both':\n",
    "    dw_query = 'SELECT * FROM ('+web_query+'UNION'+native_query+')'\n",
    "    \n",
    "print(dw_query)"
   ]
  },
  {
   "cell_type": "code",
   "execution_count": 76,
   "metadata": {},
   "outputs": [
    {
     "name": "stdout",
     "output_type": "stream",
     "text": [
      "\n",
      "SELECT DISTINCT GUID AS \"guid\",CLIENT_PUBLISH_TYPE AS \"client_publish_type\",CREATED_AT AS \"created_at\",'web' AS \"platform\"\n",
      "FROM PUBLIC.JOB_FLOW_EVENTS\n",
      " WHERE \"created_at\" >= '2021-03-16'\n"
     ]
    }
   ],
   "source": [
    "first_timestamp = enr_deci.timestamp.min().strftime('%Y-%m-%d')\n",
    "first_timestamp\n",
    "\n",
    "query = dw_query+\\\n",
    "' WHERE \"created_at\" >= \\''+first_timestamp+'\\''\n",
    "print(query)"
   ]
  },
  {
   "cell_type": "code",
   "execution_count": 77,
   "metadata": {},
   "outputs": [
    {
     "name": "stdout",
     "output_type": "stream",
     "text": [
      "\n",
      "SELECT DISTINCT GUID AS \"guid\",CLIENT_PUBLISH_TYPE AS \"client_publish_type\",CREATED_AT AS \"created_at\",'web' AS \"platform\"\n",
      "FROM PUBLIC.JOB_FLOW_EVENTS\n",
      " WHERE \"created_at\" >= '2021-03-16'\n"
     ]
    }
   ],
   "source": [
    "dw_events=import_data.query_to_df(query)\n",
    "dw_events.head()"
   ]
  },
  {
   "cell_type": "code",
   "execution_count": 78,
   "metadata": {},
   "outputs": [
    {
     "data": {
      "text/html": [
       "<div>\n",
       "<style scoped>\n",
       "    .dataframe tbody tr th:only-of-type {\n",
       "        vertical-align: middle;\n",
       "    }\n",
       "\n",
       "    .dataframe tbody tr th {\n",
       "        vertical-align: top;\n",
       "    }\n",
       "\n",
       "    .dataframe thead th {\n",
       "        text-align: right;\n",
       "    }\n",
       "</style>\n",
       "<table border=\"1\" class=\"dataframe\">\n",
       "  <thead>\n",
       "    <tr style=\"text-align: right;\">\n",
       "      <th></th>\n",
       "      <th>guid</th>\n",
       "      <th>client_publish_type</th>\n",
       "      <th>created_at</th>\n",
       "      <th>platform</th>\n",
       "    </tr>\n",
       "  </thead>\n",
       "  <tbody>\n",
       "    <tr>\n",
       "      <th>0</th>\n",
       "      <td>e7ada8cd-6547-4495-809a-ef9de1943eb5</td>\n",
       "      <td>Recommendations Date Filter Changed</td>\n",
       "      <td>2021-03-16 00:02:06</td>\n",
       "      <td>web</td>\n",
       "    </tr>\n",
       "    <tr>\n",
       "      <th>1</th>\n",
       "      <td>d3e0b7e5-0d65-400d-aeeb-66624cf96941</td>\n",
       "      <td>Recommendations Viewed</td>\n",
       "      <td>2021-03-16 00:00:50</td>\n",
       "      <td>web</td>\n",
       "    </tr>\n",
       "    <tr>\n",
       "      <th>2</th>\n",
       "      <td>afa49b4c-4a0b-48c1-a295-df4de28f4a4e</td>\n",
       "      <td>Tasker Schedule Viewed</td>\n",
       "      <td>2021-03-16 00:00:37</td>\n",
       "      <td>web</td>\n",
       "    </tr>\n",
       "    <tr>\n",
       "      <th>3</th>\n",
       "      <td>7f8e4ebd-381c-4d7d-a117-3f2e0e717aeb</td>\n",
       "      <td>Confirmation Signup Viewed</td>\n",
       "      <td>2021-03-16 00:01:38</td>\n",
       "      <td>web</td>\n",
       "    </tr>\n",
       "    <tr>\n",
       "      <th>4</th>\n",
       "      <td>e8d8b097-4353-459c-8616-38b8dddb2d20</td>\n",
       "      <td>Location_Service_Page_Viewed</td>\n",
       "      <td>2021-03-16 00:00:22</td>\n",
       "      <td>web</td>\n",
       "    </tr>\n",
       "  </tbody>\n",
       "</table>\n",
       "</div>"
      ],
      "text/plain": [
       "                                   guid                  client_publish_type  \\\n",
       "0  e7ada8cd-6547-4495-809a-ef9de1943eb5  Recommendations Date Filter Changed   \n",
       "1  d3e0b7e5-0d65-400d-aeeb-66624cf96941               Recommendations Viewed   \n",
       "2  afa49b4c-4a0b-48c1-a295-df4de28f4a4e               Tasker Schedule Viewed   \n",
       "3  7f8e4ebd-381c-4d7d-a117-3f2e0e717aeb           Confirmation Signup Viewed   \n",
       "4  e8d8b097-4353-459c-8616-38b8dddb2d20         Location_Service_Page_Viewed   \n",
       "\n",
       "           created_at platform  \n",
       "0 2021-03-16 00:02:06      web  \n",
       "1 2021-03-16 00:00:50      web  \n",
       "2 2021-03-16 00:00:37      web  \n",
       "3 2021-03-16 00:01:38      web  \n",
       "4 2021-03-16 00:00:22      web  "
      ]
     },
     "execution_count": 78,
     "metadata": {},
     "output_type": "execute_result"
    }
   ],
   "source": [
    "dw_events.head()"
   ]
  },
  {
   "cell_type": "markdown",
   "metadata": {},
   "source": [
    "### Data wrangling"
   ]
  },
  {
   "cell_type": "code",
   "execution_count": 233,
   "metadata": {
    "scrolled": true
   },
   "outputs": [
    {
     "name": "stdout",
     "output_type": "stream",
     "text": [
      "(12180546, 4) (696898, 6) (7981065, 6)\n"
     ]
    }
   ],
   "source": [
    "print(dw_events.shape\n",
    ",enr_deci.shape\n",
    ",enr_conv.shape)"
   ]
  },
  {
   "cell_type": "code",
   "execution_count": 234,
   "metadata": {
    "scrolled": false
   },
   "outputs": [
    {
     "data": {
      "text/html": [
       "<div>\n",
       "<style scoped>\n",
       "    .dataframe tbody tr th:only-of-type {\n",
       "        vertical-align: middle;\n",
       "    }\n",
       "\n",
       "    .dataframe tbody tr th {\n",
       "        vertical-align: top;\n",
       "    }\n",
       "\n",
       "    .dataframe thead th {\n",
       "        text-align: right;\n",
       "    }\n",
       "</style>\n",
       "<table border=\"1\" class=\"dataframe\">\n",
       "  <thead>\n",
       "    <tr style=\"text-align: right;\">\n",
       "      <th></th>\n",
       "      <th>experiment_id</th>\n",
       "      <th>variation_id</th>\n",
       "      <th>first_timestamp</th>\n",
       "      <th>last_timestamp</th>\n",
       "      <th>guid_count</th>\n",
       "    </tr>\n",
       "  </thead>\n",
       "  <tbody>\n",
       "    <tr>\n",
       "      <th>0</th>\n",
       "      <td>20053754433</td>\n",
       "      <td>20041984016</td>\n",
       "      <td>2021-03-16 17:11:46.770</td>\n",
       "      <td>2021-04-20 23:59:41.788</td>\n",
       "      <td>331392</td>\n",
       "    </tr>\n",
       "    <tr>\n",
       "      <th>1</th>\n",
       "      <td>20053754433</td>\n",
       "      <td>20057713467</td>\n",
       "      <td>2021-03-16 17:11:46.861</td>\n",
       "      <td>2021-04-20 23:59:37.882</td>\n",
       "      <td>332095</td>\n",
       "    </tr>\n",
       "  </tbody>\n",
       "</table>\n",
       "</div>"
      ],
      "text/plain": [
       "  experiment_id variation_id         first_timestamp          last_timestamp  \\\n",
       "0   20053754433  20041984016 2021-03-16 17:11:46.770 2021-04-20 23:59:41.788   \n",
       "1   20053754433  20057713467 2021-03-16 17:11:46.861 2021-04-20 23:59:37.882   \n",
       "\n",
       "   guid_count  \n",
       "0      331392  \n",
       "1      332095  "
      ]
     },
     "execution_count": 234,
     "metadata": {},
     "output_type": "execute_result"
    }
   ],
   "source": [
    "opt_summary = enr_deci.groupby(['experiment_id','variation_id']).agg({'timestamp':['min','max'],'guid':'nunique'}).reset_index()\n",
    "opt_summary.columns=['experiment_id','variation_id','first_timestamp','last_timestamp','guid_count']\n",
    "opt_summary"
   ]
  },
  {
   "cell_type": "code",
   "execution_count": 235,
   "metadata": {
    "scrolled": false
   },
   "outputs": [
    {
     "data": {
      "text/html": [
       "<div>\n",
       "<style scoped>\n",
       "    .dataframe tbody tr th:only-of-type {\n",
       "        vertical-align: middle;\n",
       "    }\n",
       "\n",
       "    .dataframe tbody tr th {\n",
       "        vertical-align: top;\n",
       "    }\n",
       "\n",
       "    .dataframe thead th {\n",
       "        text-align: right;\n",
       "    }\n",
       "</style>\n",
       "<table border=\"1\" class=\"dataframe\">\n",
       "  <thead>\n",
       "    <tr style=\"text-align: right;\">\n",
       "      <th></th>\n",
       "      <th>experiment_id</th>\n",
       "      <th>variation_id</th>\n",
       "      <th>first_timestamp</th>\n",
       "      <th>last_timestamp</th>\n",
       "      <th>guid_count</th>\n",
       "      <th>duration</th>\n",
       "    </tr>\n",
       "  </thead>\n",
       "  <tbody>\n",
       "    <tr>\n",
       "      <th>0</th>\n",
       "      <td>20053754433</td>\n",
       "      <td>20041984016</td>\n",
       "      <td>2021-03-16 17:11:46.770</td>\n",
       "      <td>2021-04-20 23:59:41.788</td>\n",
       "      <td>331392</td>\n",
       "      <td>35</td>\n",
       "    </tr>\n",
       "    <tr>\n",
       "      <th>1</th>\n",
       "      <td>20053754433</td>\n",
       "      <td>20057713467</td>\n",
       "      <td>2021-03-16 17:11:46.861</td>\n",
       "      <td>2021-04-20 23:59:37.882</td>\n",
       "      <td>332095</td>\n",
       "      <td>35</td>\n",
       "    </tr>\n",
       "  </tbody>\n",
       "</table>\n",
       "</div>"
      ],
      "text/plain": [
       "  experiment_id variation_id         first_timestamp          last_timestamp  \\\n",
       "0   20053754433  20041984016 2021-03-16 17:11:46.770 2021-04-20 23:59:41.788   \n",
       "1   20053754433  20057713467 2021-03-16 17:11:46.861 2021-04-20 23:59:37.882   \n",
       "\n",
       "   guid_count  duration  \n",
       "0      331392        35  \n",
       "1      332095        35  "
      ]
     },
     "execution_count": 235,
     "metadata": {},
     "output_type": "execute_result"
    }
   ],
   "source": [
    "# Add AB test duration col\n",
    "opt_summary['duration'] = opt_summary.apply(lambda x: (x['last_timestamp'] - x['first_timestamp']).days,axis=1)\n",
    "opt_summary"
   ]
  },
  {
   "cell_type": "code",
   "execution_count": 236,
   "metadata": {},
   "outputs": [],
   "source": [
    "def count_conversions(exp_id,var_id,evt_name):\n",
    "    conv_in_exp_var = enr_conv[\\\n",
    "                           (enr_conv['experiment_id'].str.find(exp_id)!=-1)\\\n",
    "                           & (enr_conv['variation_id'].str.find(var_id)!=-1)\\\n",
    "                            & (enr_conv['event_name'] == evt_name)\\\n",
    "                          ]\n",
    "    conv_by_event = conv_in_exp_var.groupby('event_name').agg({'guid':'nunique'}).reset_index()\n",
    "    return(conv_by_event.guid)"
   ]
  },
  {
   "cell_type": "code",
   "execution_count": 237,
   "metadata": {},
   "outputs": [
    {
     "data": {
      "text/plain": [
       "0    44742\n",
       "Name: guid, dtype: int64"
      ]
     },
     "execution_count": 237,
     "metadata": {},
     "output_type": "execute_result"
    }
   ],
   "source": [
    "conv_by_event = count_conversions('20053754433','20041984016','invitationSent')\n",
    "conv_by_event"
   ]
  },
  {
   "cell_type": "code",
   "execution_count": 238,
   "metadata": {
    "scrolled": true
   },
   "outputs": [
    {
     "data": {
      "text/html": [
       "<div>\n",
       "<style scoped>\n",
       "    .dataframe tbody tr th:only-of-type {\n",
       "        vertical-align: middle;\n",
       "    }\n",
       "\n",
       "    .dataframe tbody tr th {\n",
       "        vertical-align: top;\n",
       "    }\n",
       "\n",
       "    .dataframe thead th {\n",
       "        text-align: right;\n",
       "    }\n",
       "</style>\n",
       "<table border=\"1\" class=\"dataframe\">\n",
       "  <thead>\n",
       "    <tr style=\"text-align: right;\">\n",
       "      <th></th>\n",
       "      <th>experiment_id</th>\n",
       "      <th>variation_id</th>\n",
       "      <th>first_timestamp</th>\n",
       "      <th>last_timestamp</th>\n",
       "      <th>guid_count</th>\n",
       "      <th>duration</th>\n",
       "      <th>conv_count</th>\n",
       "      <th>conv_rate</th>\n",
       "    </tr>\n",
       "  </thead>\n",
       "  <tbody>\n",
       "    <tr>\n",
       "      <th>0</th>\n",
       "      <td>20053754433</td>\n",
       "      <td>20041984016</td>\n",
       "      <td>2021-03-16 17:11:46.770</td>\n",
       "      <td>2021-04-20 23:59:41.788</td>\n",
       "      <td>331392</td>\n",
       "      <td>35</td>\n",
       "      <td>44742</td>\n",
       "      <td>0.135012</td>\n",
       "    </tr>\n",
       "    <tr>\n",
       "      <th>1</th>\n",
       "      <td>20053754433</td>\n",
       "      <td>20057713467</td>\n",
       "      <td>2021-03-16 17:11:46.861</td>\n",
       "      <td>2021-04-20 23:59:37.882</td>\n",
       "      <td>332095</td>\n",
       "      <td>35</td>\n",
       "      <td>44913</td>\n",
       "      <td>0.135241</td>\n",
       "    </tr>\n",
       "  </tbody>\n",
       "</table>\n",
       "</div>"
      ],
      "text/plain": [
       "  experiment_id variation_id         first_timestamp          last_timestamp  \\\n",
       "0   20053754433  20041984016 2021-03-16 17:11:46.770 2021-04-20 23:59:41.788   \n",
       "1   20053754433  20057713467 2021-03-16 17:11:46.861 2021-04-20 23:59:37.882   \n",
       "\n",
       "   guid_count  duration  conv_count  conv_rate  \n",
       "0      331392        35       44742   0.135012  \n",
       "1      332095        35       44913   0.135241  "
      ]
     },
     "execution_count": 238,
     "metadata": {},
     "output_type": "execute_result"
    }
   ],
   "source": [
    "# Add conversion count + conversion rate columns\n",
    "opt_summary['conv_count'] = opt_summary.apply(lambda x: count_conversions(x['experiment_id'],x['variation_id'],conv_event),axis=1)\n",
    "opt_summary['conv_rate'] = opt_summary.conv_count / opt_summary.guid_count\n",
    "opt_summary"
   ]
  },
  {
   "cell_type": "code",
   "execution_count": 224,
   "metadata": {},
   "outputs": [],
   "source": [
    "def get_dw_info(exp_id,var_id,evt_name): # Pass in 3 vars from summary table\n",
    "    guids = enr_conv[\\\n",
    "                       (enr_conv['experiment_id'].str.find(exp_id)!=-1)\\\n",
    "                       & (enr_conv['variation_id'].str.find(var_id)!=-1)\\\n",
    "                      ]\n",
    "    guids = guids.guid.unique() # num guids in the experiment+variation\n",
    "    \n",
    "    dw = dw_events[(dw_events.created_at>='2021-03-16') & (dw_events.created_at<='2021-04-20')\\\n",
    "                   & (dw_events.guid.isin(guids))] # dw events from guids in the experiment+variation\n",
    "    \n",
    "    guid_ct = dw.guid.nunique()\n",
    "    conv_ct = dw[dw.client_publish_type==evt_name]\n",
    "    conv_ct = conv_ct.guid.nunique()\n",
    "    first_date = dw.created_at.min()\n",
    "    last_date = dw.created_at.max()\n",
    "    \n",
    "    return guid_ct,conv_ct,first_date,last_date # Return event info from datawarehouse"
   ]
  },
  {
   "cell_type": "code",
   "execution_count": 239,
   "metadata": {},
   "outputs": [],
   "source": [
    "# Create df for datawarehouse info from function\n",
    "dw_info = opt_summary.apply(lambda x : get_dw_info(x['experiment_id'],x['variation_id'],conv_event),axis=1)\n",
    "dw_info = pd.DataFrame(dw_info.values.tolist(),columns=['dw_guid_count','dw_conv_count','dw_first_date','dw_last_date'])"
   ]
  },
  {
   "cell_type": "code",
   "execution_count": 247,
   "metadata": {},
   "outputs": [
    {
     "data": {
      "text/html": [
       "<div>\n",
       "<style scoped>\n",
       "    .dataframe tbody tr th:only-of-type {\n",
       "        vertical-align: middle;\n",
       "    }\n",
       "\n",
       "    .dataframe tbody tr th {\n",
       "        vertical-align: top;\n",
       "    }\n",
       "\n",
       "    .dataframe thead th {\n",
       "        text-align: right;\n",
       "    }\n",
       "</style>\n",
       "<table border=\"1\" class=\"dataframe\">\n",
       "  <thead>\n",
       "    <tr style=\"text-align: right;\">\n",
       "      <th></th>\n",
       "      <th>experiment_id</th>\n",
       "      <th>variation_id</th>\n",
       "      <th>first_timestamp</th>\n",
       "      <th>last_timestamp</th>\n",
       "      <th>guid_count</th>\n",
       "      <th>duration</th>\n",
       "      <th>conv_count</th>\n",
       "      <th>conv_rate</th>\n",
       "      <th>dw_guid_count</th>\n",
       "      <th>dw_conv_count</th>\n",
       "      <th>dw_first_date</th>\n",
       "      <th>dw_last_date</th>\n",
       "      <th>dw_conv_rate</th>\n",
       "    </tr>\n",
       "  </thead>\n",
       "  <tbody>\n",
       "    <tr>\n",
       "      <th>0</th>\n",
       "      <td>20053754433</td>\n",
       "      <td>20041984016</td>\n",
       "      <td>2021-03-16 17:11:46.770</td>\n",
       "      <td>2021-04-20 23:59:41.788</td>\n",
       "      <td>331392</td>\n",
       "      <td>35</td>\n",
       "      <td>44742</td>\n",
       "      <td>0.135012</td>\n",
       "      <td>216464</td>\n",
       "      <td>51042</td>\n",
       "      <td>2021-03-16 00:00:01</td>\n",
       "      <td>2021-04-20 00:00:00</td>\n",
       "      <td>0.235799</td>\n",
       "    </tr>\n",
       "    <tr>\n",
       "      <th>1</th>\n",
       "      <td>20053754433</td>\n",
       "      <td>20057713467</td>\n",
       "      <td>2021-03-16 17:11:46.861</td>\n",
       "      <td>2021-04-20 23:59:37.882</td>\n",
       "      <td>332095</td>\n",
       "      <td>35</td>\n",
       "      <td>44913</td>\n",
       "      <td>0.135241</td>\n",
       "      <td>217350</td>\n",
       "      <td>51310</td>\n",
       "      <td>2021-03-16 00:00:02</td>\n",
       "      <td>2021-04-19 23:59:59</td>\n",
       "      <td>0.236071</td>\n",
       "    </tr>\n",
       "  </tbody>\n",
       "</table>\n",
       "</div>"
      ],
      "text/plain": [
       "  experiment_id variation_id         first_timestamp          last_timestamp  \\\n",
       "0   20053754433  20041984016 2021-03-16 17:11:46.770 2021-04-20 23:59:41.788   \n",
       "1   20053754433  20057713467 2021-03-16 17:11:46.861 2021-04-20 23:59:37.882   \n",
       "\n",
       "   guid_count  duration  conv_count  conv_rate  dw_guid_count  dw_conv_count  \\\n",
       "0      331392        35       44742   0.135012         216464          51042   \n",
       "1      332095        35       44913   0.135241         217350          51310   \n",
       "\n",
       "        dw_first_date        dw_last_date  dw_conv_rate  \n",
       "0 2021-03-16 00:00:01 2021-04-20 00:00:00      0.235799  \n",
       "1 2021-03-16 00:00:02 2021-04-19 23:59:59      0.236071  "
      ]
     },
     "execution_count": 247,
     "metadata": {},
     "output_type": "execute_result"
    }
   ],
   "source": [
    "summary = pd.concat([opt_summary,dw_info],axis=1)\n",
    "summary['dw_conv_rate'] = summary.dw_conv_count / summary.dw_guid_count\n",
    "summary"
   ]
  },
  {
   "cell_type": "code",
   "execution_count": null,
   "metadata": {},
   "outputs": [],
   "source": []
  },
  {
   "cell_type": "code",
   "execution_count": null,
   "metadata": {},
   "outputs": [],
   "source": []
  },
  {
   "cell_type": "code",
   "execution_count": null,
   "metadata": {},
   "outputs": [],
   "source": []
  },
  {
   "cell_type": "code",
   "execution_count": null,
   "metadata": {},
   "outputs": [],
   "source": [
    "# Ideal format for the tests\n",
    "# User ID | Variant | Convert [0,1]"
   ]
  },
  {
   "cell_type": "code",
   "execution_count": null,
   "metadata": {},
   "outputs": [],
   "source": []
  },
  {
   "cell_type": "code",
   "execution_count": null,
   "metadata": {},
   "outputs": [],
   "source": []
  },
  {
   "cell_type": "code",
   "execution_count": null,
   "metadata": {},
   "outputs": [],
   "source": []
  },
  {
   "cell_type": "code",
   "execution_count": null,
   "metadata": {},
   "outputs": [],
   "source": []
  },
  {
   "cell_type": "code",
   "execution_count": null,
   "metadata": {},
   "outputs": [],
   "source": []
  },
  {
   "cell_type": "markdown",
   "metadata": {},
   "source": [
    "### Data Manipulation"
   ]
  },
  {
   "cell_type": "code",
   "execution_count": null,
   "metadata": {},
   "outputs": [],
   "source": [
    "# Check for null values\n",
    "print(len(data[data.search_bfs.isna()]))\n",
    "print(len(data[data.bfs.isna()]))\n",
    "print(len(data[data.booked.isna()]))"
   ]
  },
  {
   "cell_type": "markdown",
   "metadata": {},
   "source": [
    "### EDA"
   ]
  },
  {
   "cell_type": "code",
   "execution_count": null,
   "metadata": {
    "scrolled": true
   },
   "outputs": [],
   "source": [
    "# Split into control vs. search update variants\n",
    "control=data[data.variation=='control']\n",
    "search_update=data[data.variation=='search_update']\n",
    "\n",
    "print(len(control),'+',len(search_update),'=',len(control)+len(search_update))\n",
    "print(len(data))"
   ]
  },
  {
   "cell_type": "markdown",
   "metadata": {},
   "source": [
    "### Run Mann-Whitney Test"
   ]
  },
  {
   "cell_type": "code",
   "execution_count": null,
   "metadata": {},
   "outputs": [],
   "source": [
    "# mann_whitney function that inputs the control + variant conversion columns\n",
    "def mann_whitney(control,variant,conv):\n",
    "    u_statistic, p_value = stats.mannwhitneyu(control[conv],variant[conv])\n",
    "    print(\"u_statistic: \\t\",u_statistic,\"\\np_value: \\t\",p_value)\n",
    "    if p_value<0.05:\n",
    "        print(\"\\n Mann-Whitney test is significant for \",conv)"
   ]
  },
  {
   "cell_type": "code",
   "execution_count": null,
   "metadata": {
    "scrolled": false
   },
   "outputs": [],
   "source": [
    "mann_whitney(control,search_update,'search_bfs')"
   ]
  },
  {
   "cell_type": "code",
   "execution_count": null,
   "metadata": {},
   "outputs": [],
   "source": [
    "mann_whitney(control,search_update,'bfs')"
   ]
  },
  {
   "cell_type": "code",
   "execution_count": null,
   "metadata": {
    "scrolled": true
   },
   "outputs": [],
   "source": [
    "# mann_whitney(control,search_update,'booked')"
   ]
  },
  {
   "cell_type": "markdown",
   "metadata": {},
   "source": [
    "### Run chi-square test"
   ]
  },
  {
   "cell_type": "code",
   "execution_count": null,
   "metadata": {},
   "outputs": [],
   "source": [
    "def chi2_test(variations,conv):    \n",
    "    contingency = pd.crosstab(variations, data[conv]) \n",
    "    display(contingency)\n",
    "    \n",
    "    contingency_pct = pd.crosstab(variations, data[conv], normalize='index')\n",
    "    display(contingency_pct)\n",
    "    \n",
    "#     plt.figure(figsize=(4,2)) \n",
    "#     sns.heatmap(contingency, annot=True, cmap=\"YlGnBu\")\n",
    "    \n",
    "    c, p, dof, expected = chi2_contingency(contingency)\n",
    "    print('\\np-value:\\t',p)\n",
    "    if p<0.05:\n",
    "        print(\"\\n Chi-square test is significant for\",conv)"
   ]
  },
  {
   "cell_type": "code",
   "execution_count": null,
   "metadata": {
    "scrolled": true
   },
   "outputs": [],
   "source": [
    "chi2_test(data['variation'],'search_bfs')"
   ]
  },
  {
   "cell_type": "code",
   "execution_count": null,
   "metadata": {
    "scrolled": false
   },
   "outputs": [],
   "source": [
    "chi2_test(data['variation'],'bfs')"
   ]
  },
  {
   "cell_type": "code",
   "execution_count": null,
   "metadata": {},
   "outputs": [],
   "source": [
    "# chi2_test(data['variation'],'booked')"
   ]
  },
  {
   "cell_type": "markdown",
   "metadata": {},
   "source": [
    "### Run Fishers Test"
   ]
  },
  {
   "cell_type": "code",
   "execution_count": null,
   "metadata": {},
   "outputs": [],
   "source": [
    "def fisher_exact(variations,conv):    \n",
    "    contingency = pd.crosstab(variations, data[conv]) \n",
    "    display(contingency)\n",
    "    \n",
    "    oddsratio, p_value = stats.fisher_exact(contingency)\n",
    "\n",
    "    print('\\np-value:\\t',p_value)\n",
    "    if p_value<0.05:\n",
    "        print(\"\\n Fisher exact test is significant for\",conv)"
   ]
  },
  {
   "cell_type": "code",
   "execution_count": null,
   "metadata": {},
   "outputs": [],
   "source": [
    "fisher_exact(data['variation'],'search_bfs')"
   ]
  },
  {
   "cell_type": "code",
   "execution_count": null,
   "metadata": {},
   "outputs": [],
   "source": [
    "fisher_exact(data['variation'],'bfs')"
   ]
  },
  {
   "cell_type": "code",
   "execution_count": null,
   "metadata": {},
   "outputs": [],
   "source": [
    "fisher_exact(data['variation'],'booked')"
   ]
  },
  {
   "cell_type": "markdown",
   "metadata": {},
   "source": [
    "### Calculate lift across search BFS, overall BFS, and booking rates"
   ]
  },
  {
   "cell_type": "code",
   "execution_count": null,
   "metadata": {},
   "outputs": [],
   "source": [
    "round(3.23432,2)"
   ]
  },
  {
   "cell_type": "code",
   "execution_count": null,
   "metadata": {},
   "outputs": [],
   "source": [
    "# calculate_lift function that inputs the control + variant dfs\n",
    "def calculate_lift(control,variant,conv):\n",
    "    control_conv=100*(control[conv].sum()/control['guid'].count())\n",
    "    print('CONTROL')\n",
    "    print('total visitors:',control['guid'].count())\n",
    "    print('unique conversions:',control[conv].sum())\n",
    "    print('control ',conv,' rate:','%.2f'%control_conv)\n",
    "\n",
    "    print('\\nVARIANT')\n",
    "    print('total visitors:',variant['guid'].count())\n",
    "    print('unique conversions:',variant[conv].sum())\n",
    "    variant_conv=100*(variant[conv].sum()/variant['guid'].count())\n",
    "    print('variant ',conv,' rate:','%.2f'%variant_conv)\n",
    "    \n",
    "    print('\\nLIFT - CONTROL VS. VARIANT')\n",
    "    lift_magnitude = variant_conv-control_conv\n",
    "    lift_pct = 100*(lift_magnitude/control_conv)\n",
    "#     print('Lift (magnitude) in',conv,':','%.2f'%lift_magnitude)\n",
    "    print('Lift (percent) in',conv,':','%.2f'%lift_pct,'percent','(','%.2f'%control_conv,'vs.','%.2f'%variant_conv,')')"
   ]
  },
  {
   "cell_type": "code",
   "execution_count": null,
   "metadata": {
    "scrolled": false
   },
   "outputs": [],
   "source": [
    "calculate_lift(control,search_update,'search_bfs')"
   ]
  },
  {
   "cell_type": "code",
   "execution_count": null,
   "metadata": {
    "scrolled": true
   },
   "outputs": [],
   "source": [
    "calculate_lift(control,search_update,'bfs')"
   ]
  },
  {
   "cell_type": "code",
   "execution_count": null,
   "metadata": {
    "scrolled": true
   },
   "outputs": [],
   "source": [
    "calculate_lift(control,search_update,'booked')"
   ]
  }
 ],
 "metadata": {
  "kernelspec": {
   "display_name": "Python 3",
   "language": "python",
   "name": "python3"
  },
  "language_info": {
   "codemirror_mode": {
    "name": "ipython",
    "version": 3
   },
   "file_extension": ".py",
   "mimetype": "text/x-python",
   "name": "python",
   "nbconvert_exporter": "python",
   "pygments_lexer": "ipython3",
   "version": "3.8.3"
  }
 },
 "nbformat": 4,
 "nbformat_minor": 4
}
