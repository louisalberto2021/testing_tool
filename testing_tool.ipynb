{
 "cells": [
  {
   "cell_type": "code",
   "execution_count": 2,
   "metadata": {},
   "outputs": [],
   "source": [
    "import import_ipynb\n",
    "import os\n",
    "\n",
    "import pandas as pd\n",
    "import matplotlib\n",
    "import matplotlib.pyplot as plt\n",
    "import numpy as np\n",
    "import datetime as dt\n",
    "from datetime import date\n",
    "\n",
    "import scipy.stats as stats\n",
    "from scipy.stats import chi2_contingency\n",
    "import seaborn as sns"
   ]
  },
  {
   "cell_type": "code",
   "execution_count": 3,
   "metadata": {
    "scrolled": false
   },
   "outputs": [
    {
     "name": "stdout",
     "output_type": "stream",
     "text": [
      "importing Jupyter notebook from import_data.ipynb\n",
      "Connected to snowflake. Now read in query = open('/Folder Directory/sql_query_of_data.sql','r').read()\n"
     ]
    }
   ],
   "source": [
    "import import_data"
   ]
  },
  {
   "cell_type": "markdown",
   "metadata": {},
   "source": [
    "### Script Contents\n",
    "\n",
    "#### 1. Set Input Variables\n",
    "Designate input variables for now, optimizely_dashboard_results table needed to automate\n",
    "#### 2. Import Data\n",
    "This imports data from multiple optimizely and datawarehouse tables. Takes awhile to run.\n",
    "#### 3. Create summary table by experiment + variation \n",
    "The \"summary\" output table will contain total guid counts, conversion counts, and conversion rate for both optimizely (\"opt_\") and our datawarehouse (\"dw_\").\n",
    "#### 4. Fishers Test\n",
    "Outputs the contingency table (variant x conversion), odds ratio, and p-value."
   ]
  },
  {
   "cell_type": "code",
   "execution_count": null,
   "metadata": {},
   "outputs": [],
   "source": []
  },
  {
   "cell_type": "markdown",
   "metadata": {},
   "source": [
    "### 1. Set Input Variables"
   ]
  },
  {
   "cell_type": "code",
   "execution_count": null,
   "metadata": {},
   "outputs": [],
   "source": [
    "# Input variables\n",
    "experiment_id = '20053754433'\n",
    "platform = 'both' # web, native, or both\n",
    "conv_event= 'decorated_invoice_submitted'\n",
    "\n",
    "like_experiment_filter = 'AND (EXPERIMENT_ID LIKE \\'%'+experiment_id+'%\\')'\n",
    "equals_experiment_filter = 'AND (EXPERIMENT_ID = \\''+experiment_id+'\\')'"
   ]
  },
  {
   "cell_type": "markdown",
   "metadata": {},
   "source": [
    "### 2. Import data"
   ]
  },
  {
   "cell_type": "markdown",
   "metadata": {},
   "source": [
    "#### Import DASHBOARD_RESULTS"
   ]
  },
  {
   "cell_type": "code",
   "execution_count": 5,
   "metadata": {
    "scrolled": false
   },
   "outputs": [],
   "source": [
    "# Working with Manasi to get this table up to date\n",
    "\n",
    "# query =\\\n",
    "# \"\"\"\n",
    "# SELECT \t\tEXPERIMENT_ID AS \"experiment_id\"\n",
    "# \t\t,EXPERIMENT_NAME AS \"experiment_name\"\n",
    "# \t\t,VARIATION_ID AS \"variation_id\"\n",
    "# \t\t,VARIATION_NAME AS \"variation_name\"\n",
    "# \t\t,MAX(IS_BASELINE_VARIATION) AS \"is_baseline_variation\"\n",
    "# --\t\t\t,MIN(START_TIME_UTC),MAX(END_TIME_UTC),COUNT(DISTINCT VARIATION_ID),MAX(VARIATION_ID),MIN(VARIATION_ID)\n",
    "# FROM \t\tPUBLIC.OPTIMIZELY_DASHBOARD_RESULTS \n",
    "# WHERE \t\tEXPERIMENT_NAME LIKE 'growth-%'\n",
    "# GROUP BY \t1,2,3,4\n",
    "# HAVING \t\tDATEDIFF(DD,MAX(END_TIME_UTC),CURRENT_DATE) BETWEEN 0 AND 1\n",
    "# ORDER BY \tMAX(END_TIME_UTC) DESC, EXPERIMENT_NAME DESC\n",
    "# \"\"\"\n",
    "# db_results = import_data.query_to_df(query)\n",
    "# db_results"
   ]
  },
  {
   "cell_type": "markdown",
   "metadata": {},
   "source": [
    "#### Import IMPR_EVENTS"
   ]
  },
  {
   "cell_type": "code",
   "execution_count": 6,
   "metadata": {},
   "outputs": [],
   "source": [
    "# May not be necessary to pull this in. 1:1 with ENR_DECI table"
   ]
  },
  {
   "cell_type": "markdown",
   "metadata": {},
   "source": [
    "#### Import ENR_DECI"
   ]
  },
  {
   "cell_type": "code",
   "execution_count": 117,
   "metadata": {
    "scrolled": false
   },
   "outputs": [
    {
     "name": "stdout",
     "output_type": "stream",
     "text": [
      "\n",
      "SELECT\t VISITOR_ID AS \"visitor_id\"\n",
      "\t\t,EXPERIMENT_ID AS \"experiment_id\"\n",
      "\t\t,VARIATION_ID AS \"variation_id\"\n",
      "\t\t,GUID AS \"guid\"\n",
      "\t\t,ENVIRONMENT AS \"environment\"\n",
      "\t\t,TIMESTAMP AS \"timestamp\"\n",
      "FROM PUBLIC.OPTIMIZELY_ENR_DECI \n",
      "WHERE ENVIRONMENT='production'\n",
      "AND (EXPERIMENT_ID = '20053754433')\n"
     ]
    },
    {
     "data": {
      "text/html": [
       "<div>\n",
       "<style scoped>\n",
       "    .dataframe tbody tr th:only-of-type {\n",
       "        vertical-align: middle;\n",
       "    }\n",
       "\n",
       "    .dataframe tbody tr th {\n",
       "        vertical-align: top;\n",
       "    }\n",
       "\n",
       "    .dataframe thead th {\n",
       "        text-align: right;\n",
       "    }\n",
       "</style>\n",
       "<table border=\"1\" class=\"dataframe\">\n",
       "  <thead>\n",
       "    <tr style=\"text-align: right;\">\n",
       "      <th></th>\n",
       "      <th>visitor_id</th>\n",
       "      <th>experiment_id</th>\n",
       "      <th>variation_id</th>\n",
       "      <th>guid</th>\n",
       "      <th>environment</th>\n",
       "      <th>timestamp</th>\n",
       "    </tr>\n",
       "  </thead>\n",
       "  <tbody>\n",
       "    <tr>\n",
       "      <th>0</th>\n",
       "      <td>94c03785-dedf-499c-b1a5-97b3067d12dd</td>\n",
       "      <td>20053754433</td>\n",
       "      <td>20057713467</td>\n",
       "      <td>9bd65798-0066-4bcf-afeb-65a024038cd8</td>\n",
       "      <td>production</td>\n",
       "      <td>2021-03-28 17:10:39.647</td>\n",
       "    </tr>\n",
       "    <tr>\n",
       "      <th>1</th>\n",
       "      <td>97467f19-20df-9c20-a6c2-c32a4c48ace1</td>\n",
       "      <td>20053754433</td>\n",
       "      <td>20041984016</td>\n",
       "      <td>6c1e6dae-16e8-47aa-d2be-bd44606cedc3</td>\n",
       "      <td>production</td>\n",
       "      <td>2021-03-27 09:33:20.086</td>\n",
       "    </tr>\n",
       "    <tr>\n",
       "      <th>2</th>\n",
       "      <td>1a499ecd-7998-4559-a526-d5708925470d</td>\n",
       "      <td>20053754433</td>\n",
       "      <td>20041984016</td>\n",
       "      <td>1a499ecd-7998-4559-a526-d5708925470d</td>\n",
       "      <td>production</td>\n",
       "      <td>2021-03-27 01:43:00.835</td>\n",
       "    </tr>\n",
       "    <tr>\n",
       "      <th>3</th>\n",
       "      <td>47f60dfb-2730-4e95-b1c3-1c344fe4a9a3</td>\n",
       "      <td>20053754433</td>\n",
       "      <td>20057713467</td>\n",
       "      <td>47f60dfb-2730-4e95-b1c3-1c344fe4a9a3</td>\n",
       "      <td>production</td>\n",
       "      <td>2021-03-27 00:14:40.617</td>\n",
       "    </tr>\n",
       "    <tr>\n",
       "      <th>4</th>\n",
       "      <td>564976a4-100b-448e-aa30-36d4d68bc42b</td>\n",
       "      <td>20053754433</td>\n",
       "      <td>20041984016</td>\n",
       "      <td>33fd7d3f-abc8-e896-4137-0a1b12f3a159</td>\n",
       "      <td>production</td>\n",
       "      <td>2021-03-28 21:36:08.649</td>\n",
       "    </tr>\n",
       "  </tbody>\n",
       "</table>\n",
       "</div>"
      ],
      "text/plain": [
       "                             visitor_id experiment_id variation_id  \\\n",
       "0  94c03785-dedf-499c-b1a5-97b3067d12dd   20053754433  20057713467   \n",
       "1  97467f19-20df-9c20-a6c2-c32a4c48ace1   20053754433  20041984016   \n",
       "2  1a499ecd-7998-4559-a526-d5708925470d   20053754433  20041984016   \n",
       "3  47f60dfb-2730-4e95-b1c3-1c344fe4a9a3   20053754433  20057713467   \n",
       "4  564976a4-100b-448e-aa30-36d4d68bc42b   20053754433  20041984016   \n",
       "\n",
       "                                   guid environment               timestamp  \n",
       "0  9bd65798-0066-4bcf-afeb-65a024038cd8  production 2021-03-28 17:10:39.647  \n",
       "1  6c1e6dae-16e8-47aa-d2be-bd44606cedc3  production 2021-03-27 09:33:20.086  \n",
       "2  1a499ecd-7998-4559-a526-d5708925470d  production 2021-03-27 01:43:00.835  \n",
       "3  47f60dfb-2730-4e95-b1c3-1c344fe4a9a3  production 2021-03-27 00:14:40.617  \n",
       "4  33fd7d3f-abc8-e896-4137-0a1b12f3a159  production 2021-03-28 21:36:08.649  "
      ]
     },
     "execution_count": 117,
     "metadata": {},
     "output_type": "execute_result"
    }
   ],
   "source": [
    "# Test enr_deci query for now\n",
    "query =\\\n",
    "\"\"\"\n",
    "SELECT\t VISITOR_ID AS \"visitor_id\"\n",
    "\t\t,EXPERIMENT_ID AS \"experiment_id\"\n",
    "\t\t,VARIATION_ID AS \"variation_id\"\n",
    "\t\t,GUID AS \"guid\"\n",
    "\t\t,ENVIRONMENT AS \"environment\"\n",
    "\t\t,TIMESTAMP AS \"timestamp\"\n",
    "FROM PUBLIC.OPTIMIZELY_ENR_DECI \n",
    "WHERE ENVIRONMENT='production'\n",
    "\"\"\"\\\n",
    "+equals_experiment_filter\n",
    "# WHERE CREATED_AT >= \"\"\"+'\\''+dt_from.strftime(\"%Y-%m-%d\")+'\\''\n",
    "\n",
    "enr_deci = import_data.query_to_df(query)\n",
    "enr_deci.head()"
   ]
  },
  {
   "cell_type": "markdown",
   "metadata": {},
   "source": [
    "#### Import ENR_CONV"
   ]
  },
  {
   "cell_type": "code",
   "execution_count": 9,
   "metadata": {
    "scrolled": false
   },
   "outputs": [
    {
     "name": "stdout",
     "output_type": "stream",
     "text": [
      "\n",
      "SELECT\t VISITOR_ID AS \"visitor_id\"\n",
      "        ,EVENT_NAME AS \"event_name\"\n",
      "\t\t,EXPERIMENT_ID AS \"experiment_id\"\n",
      "\t\t,VARIATION_ID AS \"variation_id\"\n",
      "\t\t,GUID AS \"guid\"\n",
      "\t\t,TIMESTAMP AS \"timestamp\"\n",
      "FROM PUBLIC.OPTIMIZELY_ENR_CONV\n",
      "WHERE ENVIRONMENT='production'\n",
      "AND (EXPERIMENT_ID LIKE '%20053754433%')\n"
     ]
    }
   ],
   "source": [
    "# Test enr_conv query for now\n",
    "query =\\\n",
    "\"\"\"\n",
    "SELECT\t VISITOR_ID AS \"visitor_id\"\n",
    "        ,EVENT_NAME AS \"event_name\"\n",
    "\t\t,EXPERIMENT_ID AS \"experiment_id\"\n",
    "\t\t,VARIATION_ID AS \"variation_id\"\n",
    "\t\t,GUID AS \"guid\"\n",
    "\t\t,TIMESTAMP AS \"timestamp\"\n",
    "FROM PUBLIC.OPTIMIZELY_ENR_CONV\n",
    "WHERE ENVIRONMENT='production'\n",
    "\"\"\"\\\n",
    "+like_experiment_filter\n",
    "\n",
    "enr_conv=import_data.query_to_df(query)\n",
    "enr_conv.head()"
   ]
  },
  {
   "cell_type": "markdown",
   "metadata": {},
   "source": [
    "#### Import DW_EVENTS"
   ]
  },
  {
   "cell_type": "code",
   "execution_count": 135,
   "metadata": {},
   "outputs": [
    {
     "name": "stdout",
     "output_type": "stream",
     "text": [
      "\n",
      "SELECT GUID AS \"guid\",CLIENT_PUBLISH_TYPE AS \"client_publish_type\",CREATED_AT AS \"created_at\",'web' AS \"platform\"\n",
      "FROM PUBLIC.JOB_FLOW_EVENTS\n",
      "WHERE \"created_at\" BETWEEN '2021-03-16' AND '2021-04-21'UNION\n",
      "SELECT GUID AS \"guid\",CLIENT_PUBLISH_TYPE AS \"client_publish_type\",CREATED_AT AS \"created_at\",'native' AS \"platform\"\n",
      "FROM PUBLIC.REACT_NATIVE_EVENTS\n",
      "WHERE \"created_at\" BETWEEN '2021-03-16' AND '2021-04-21'UNION\n",
      "SELECT\tposters.GUID AS \"guid\",\n",
      "\t\t'decorated_invoice_submitted' AS \"event\",\n",
      "    \tjob_invoices.SUBMITTED_STATE_AT AS \"submitted_state_date\",\n",
      "    \tclient_applications.APPLICATION AS \"application\"\n",
      "FROM\tJOBS AS jobs\n",
      "\t\tINNER JOIN JOB_INVOICES AS job_invoices ON jobs.ID = job_invoices.JOB_ID\n",
      "\t\tLEFT JOIN USERS AS posters ON jobs.POSTER_ID = posters.ID\n",
      "\t\tLEFT JOIN CLIENT_APPLICATIONS AS client_applications ON jobs.CREATED_CLIENT_APPLICATION_ID = client_applications.ID\n",
      "WHERE \t(NOT (jobs.poster_rabbit_relationship_id::boolean) OR (jobs.poster_rabbit_relationship_id::boolean) IS NULL) \n",
      "\t\tAND (jobs.V2_ID IS NULL)\n",
      "\t\tAND ((NOT (jobs.suppress_level >= 1000 ) OR (jobs.suppress_level >= 1000 ) IS NULL) AND (( jobs.FIXUP_KEY  IS NULL))) \n",
      "\t\tAND ((NOT (posters.real_user_id is not null ) OR (posters.real_user_id is not null ) IS NULL) AND (NOT (posters.admin::boolean ) OR (posters.admin::boolean ) IS NULL) AND ((NOT (posters.internal::boolean ) OR (posters.internal::boolean ) IS NULL) AND (NOT (posters.suppress_level >= 1000 ) OR (posters.suppress_level >= 1000 ) IS NULL)))\n",
      "AND \"submitted_state_date\" BETWEEN '2021-03-16' AND '2021-04-21'\n"
     ]
    }
   ],
   "source": [
    "# Get the start date of the experiment to load into query\n",
    "first_timestamp = enr_deci.timestamp.min().strftime('%Y-%m-%d')\n",
    "last_timestamp = enr_deci.timestamp.max().strftime('%Y-%m-%d')\n",
    "\n",
    "web_query =\\\n",
    "\"\"\"\n",
    "SELECT GUID AS \"guid\",CLIENT_PUBLISH_TYPE AS \"client_publish_type\",CREATED_AT AS \"created_at\",'web' AS \"platform\"\n",
    "FROM PUBLIC.JOB_FLOW_EVENTS\n",
    "\"\"\"+'WHERE \"created_at\" BETWEEN \\''+first_timestamp+'\\' AND \\''+last_timestamp+'\\''\\\n",
    "\n",
    "native_query =\\\n",
    "\"\"\"\n",
    "SELECT GUID AS \"guid\",CLIENT_PUBLISH_TYPE AS \"client_publish_type\",CREATED_AT AS \"created_at\",'native' AS \"platform\"\n",
    "FROM PUBLIC.REACT_NATIVE_EVENTS\n",
    "\"\"\"+'WHERE \"created_at\" BETWEEN \\''+first_timestamp+'\\' AND \\''+last_timestamp+'\\''\\\n",
    "\n",
    "invoices_query =\\\n",
    "\"\"\"\n",
    "SELECT\tposters.GUID AS \"guid\",\n",
    "\t\t'decorated_invoice_submitted' AS \"event\",\n",
    "    \tjob_invoices.SUBMITTED_STATE_AT AS \"submitted_state_date\",\n",
    "    \tclient_applications.APPLICATION AS \"application\"\n",
    "FROM\tJOBS AS jobs\n",
    "\t\tINNER JOIN JOB_INVOICES AS job_invoices ON jobs.ID = job_invoices.JOB_ID\n",
    "\t\tLEFT JOIN USERS AS posters ON jobs.POSTER_ID = posters.ID\n",
    "\t\tLEFT JOIN CLIENT_APPLICATIONS AS client_applications ON jobs.CREATED_CLIENT_APPLICATION_ID = client_applications.ID\n",
    "WHERE \t(NOT (jobs.poster_rabbit_relationship_id::boolean) OR (jobs.poster_rabbit_relationship_id::boolean) IS NULL) \n",
    "\t\tAND (jobs.V2_ID IS NULL)\n",
    "\t\tAND ((NOT (jobs.suppress_level >= 1000 ) OR (jobs.suppress_level >= 1000 ) IS NULL) AND (( jobs.FIXUP_KEY  IS NULL))) \n",
    "\t\tAND ((NOT (posters.real_user_id is not null ) OR (posters.real_user_id is not null ) IS NULL) AND (NOT (posters.admin::boolean ) OR (posters.admin::boolean ) IS NULL) AND ((NOT (posters.internal::boolean ) OR (posters.internal::boolean ) IS NULL) AND (NOT (posters.suppress_level >= 1000 ) OR (posters.suppress_level >= 1000 ) IS NULL)))\n",
    "\"\"\"+'AND \"submitted_state_date\" BETWEEN \\''+first_timestamp+'\\' AND \\''+last_timestamp+'\\''\\\n",
    "\n",
    "if platform == 'web':\n",
    "    dw_query = web_query+'\\nUNION'+invoices_query\n",
    "elif platform == 'native':\n",
    "    dw_query = native_query+'\\nUNION'+invoices_query\n",
    "elif platform == 'both':\n",
    "    dw_query = web_query+'UNION'+native_query+'UNION'+invoices_query"
   ]
  },
  {
   "cell_type": "code",
   "execution_count": null,
   "metadata": {
    "scrolled": false
   },
   "outputs": [
    {
     "name": "stdout",
     "output_type": "stream",
     "text": [
      "\n",
      "SELECT GUID AS \"guid\",CLIENT_PUBLISH_TYPE AS \"client_publish_type\",CREATED_AT AS \"created_at\",'web' AS \"platform\"\n",
      "FROM PUBLIC.JOB_FLOW_EVENTS\n",
      "WHERE \"created_at\" BETWEEN '2021-03-16' AND '2021-04-21'UNION\n",
      "SELECT GUID AS \"guid\",CLIENT_PUBLISH_TYPE AS \"client_publish_type\",CREATED_AT AS \"created_at\",'native' AS \"platform\"\n",
      "FROM PUBLIC.REACT_NATIVE_EVENTS\n",
      "WHERE \"created_at\" BETWEEN '2021-03-16' AND '2021-04-21'UNION\n",
      "SELECT\tposters.GUID AS \"guid\",\n",
      "\t\t'decorated_invoice_submitted' AS \"event\",\n",
      "    \tjob_invoices.SUBMITTED_STATE_AT AS \"submitted_state_date\",\n",
      "    \tclient_applications.APPLICATION AS \"application\"\n",
      "FROM\tJOBS AS jobs\n",
      "\t\tINNER JOIN JOB_INVOICES AS job_invoices ON jobs.ID = job_invoices.JOB_ID\n",
      "\t\tLEFT JOIN USERS AS posters ON jobs.POSTER_ID = posters.ID\n",
      "\t\tLEFT JOIN CLIENT_APPLICATIONS AS client_applications ON jobs.CREATED_CLIENT_APPLICATION_ID = client_applications.ID\n",
      "WHERE \t(NOT (jobs.poster_rabbit_relationship_id::boolean) OR (jobs.poster_rabbit_relationship_id::boolean) IS NULL) \n",
      "\t\tAND (jobs.V2_ID IS NULL)\n",
      "\t\tAND ((NOT (jobs.suppress_level >= 1000 ) OR (jobs.suppress_level >= 1000 ) IS NULL) AND (( jobs.FIXUP_KEY  IS NULL))) \n",
      "\t\tAND ((NOT (posters.real_user_id is not null ) OR (posters.real_user_id is not null ) IS NULL) AND (NOT (posters.admin::boolean ) OR (posters.admin::boolean ) IS NULL) AND ((NOT (posters.internal::boolean ) OR (posters.internal::boolean ) IS NULL) AND (NOT (posters.suppress_level >= 1000 ) OR (posters.suppress_level >= 1000 ) IS NULL)))\n",
      "AND \"submitted_state_date\" BETWEEN '2021-03-16' AND '2021-04-21'\n"
     ]
    }
   ],
   "source": [
    "print(platform)\n",
    "dw_events=import_data.query_to_df(dw_query)\n",
    "dw_events.head()"
   ]
  },
  {
   "cell_type": "markdown",
   "metadata": {},
   "source": [
    "### 3. Create summary table by experiment + variation"
   ]
  },
  {
   "cell_type": "code",
   "execution_count": 53,
   "metadata": {},
   "outputs": [],
   "source": [
    "def count_conversions(exp_id,var_id,evt_name):\n",
    "    conv_in_exp_var = enr_conv[\\\n",
    "                           (enr_conv['experiment_id'].str.find(exp_id)!=-1)\\\n",
    "                           & (enr_conv['variation_id'].str.find(var_id)!=-1)\\\n",
    "                            & (enr_conv['event_name'] == evt_name)\\\n",
    "                          ]\n",
    "    conv_by_event = conv_in_exp_var.groupby('event_name').agg({'guid':'nunique'}).reset_index()\n",
    "    return(conv_by_event.guid)"
   ]
  },
  {
   "cell_type": "code",
   "execution_count": 73,
   "metadata": {},
   "outputs": [],
   "source": [
    "def get_dw_info(exp_id,var_id,evt_name): # Pass in 3 vars from summary table\n",
    "    guids = enr_deci[(enr_deci['experiment_id'].str.find(exp_id)!=-1) & (enr_deci['variation_id'].str.find(var_id)!=-1)]\n",
    "    guids = guids.guid.unique() # num guids in the experiment+variation\n",
    "    \n",
    "    dw = dw_events[(dw_events.created_at>=first_timestamp) & (dw_events.created_at<=last_timestamp)\\\n",
    "                   & (dw_events.guid.isin(guids))] # dw events from guids in the experiment+variation\n",
    "    \n",
    "    guid_ct = dw.guid.nunique()\n",
    "    conv_ct = dw[dw.client_publish_type==evt_name]\n",
    "    conv_ct = conv_ct.guid.nunique()\n",
    "    first_date = dw.created_at.min()\n",
    "    last_date = dw.created_at.max()\n",
    "    \n",
    "    print('get_dw_info_complete')\n",
    "    \n",
    "    return guid_ct,conv_ct,first_date,last_date # Return event info from datawarehouse"
   ]
  },
  {
   "cell_type": "code",
   "execution_count": 101,
   "metadata": {
    "scrolled": true
   },
   "outputs": [
    {
     "data": {
      "text/html": [
       "<div>\n",
       "<style scoped>\n",
       "    .dataframe tbody tr th:only-of-type {\n",
       "        vertical-align: middle;\n",
       "    }\n",
       "\n",
       "    .dataframe tbody tr th {\n",
       "        vertical-align: top;\n",
       "    }\n",
       "\n",
       "    .dataframe thead th {\n",
       "        text-align: right;\n",
       "    }\n",
       "</style>\n",
       "<table border=\"1\" class=\"dataframe\">\n",
       "  <thead>\n",
       "    <tr style=\"text-align: right;\">\n",
       "      <th></th>\n",
       "      <th>experiment_id</th>\n",
       "      <th>variation_id</th>\n",
       "      <th>opt_first_date</th>\n",
       "      <th>opt_last_date</th>\n",
       "      <th>opt_guid_count</th>\n",
       "      <th>duration</th>\n",
       "    </tr>\n",
       "  </thead>\n",
       "  <tbody>\n",
       "    <tr>\n",
       "      <th>0</th>\n",
       "      <td>20053754433</td>\n",
       "      <td>20041984016</td>\n",
       "      <td>2021-03-16 17:11:46.770</td>\n",
       "      <td>2021-04-21 23:59:04.760</td>\n",
       "      <td>340506</td>\n",
       "      <td>36</td>\n",
       "    </tr>\n",
       "    <tr>\n",
       "      <th>1</th>\n",
       "      <td>20053754433</td>\n",
       "      <td>20057713467</td>\n",
       "      <td>2021-03-16 17:11:46.861</td>\n",
       "      <td>2021-04-21 23:59:06.312</td>\n",
       "      <td>341096</td>\n",
       "      <td>36</td>\n",
       "    </tr>\n",
       "  </tbody>\n",
       "</table>\n",
       "</div>"
      ],
      "text/plain": [
       "  experiment_id variation_id          opt_first_date           opt_last_date  \\\n",
       "0   20053754433  20041984016 2021-03-16 17:11:46.770 2021-04-21 23:59:04.760   \n",
       "1   20053754433  20057713467 2021-03-16 17:11:46.861 2021-04-21 23:59:06.312   \n",
       "\n",
       "   opt_guid_count  duration  \n",
       "0          340506        36  \n",
       "1          341096        36  "
      ]
     },
     "execution_count": 101,
     "metadata": {},
     "output_type": "execute_result"
    }
   ],
   "source": [
    "opt_summary = enr_deci.groupby(['experiment_id','variation_id']).agg({'timestamp':['min','max'],'guid':'nunique'}).reset_index()\n",
    "opt_summary.columns=['experiment_id','variation_id','opt_first_date','opt_last_date','opt_guid_count']\n",
    "\n",
    "# Add AB test duration col\n",
    "opt_summary['duration'] = opt_summary.apply(lambda x: (x['opt_last_date'] - x['opt_first_date']).days,axis=1)\n",
    "\n",
    "opt_summary"
   ]
  },
  {
   "cell_type": "code",
   "execution_count": 108,
   "metadata": {
    "scrolled": true
   },
   "outputs": [],
   "source": [
    "# Add conversion count + conversion rate columns\n",
    "opt_summary['opt_conv_count'] = opt_summary.apply(lambda x: count_conversions(x['experiment_id'],x['variation_id'],conv_event),axis=1)\n",
    "opt_summary['opt_conv_rate'] = opt_summary.opt_conv_count / opt_summary.opt_guid_count\n",
    "opt_summary"
   ]
  },
  {
   "cell_type": "code",
   "execution_count": 106,
   "metadata": {
    "scrolled": true
   },
   "outputs": [
    {
     "name": "stdout",
     "output_type": "stream",
     "text": [
      "get_dw_info_complete\n",
      "get_dw_info_complete\n"
     ]
    }
   ],
   "source": [
    "# Create df for datawarehouse info from function\n",
    "dw_info = opt_summary.apply(lambda x : get_dw_info(x['experiment_id'],x['variation_id'],conv_event),axis=1)\n",
    "dw_info = pd.DataFrame(dw_info.values.tolist(),columns=['dw_guid_count','dw_conv_count','dw_first_date','dw_last_date'])"
   ]
  },
  {
   "cell_type": "code",
   "execution_count": 107,
   "metadata": {},
   "outputs": [
    {
     "data": {
      "text/html": [
       "<div>\n",
       "<style scoped>\n",
       "    .dataframe tbody tr th:only-of-type {\n",
       "        vertical-align: middle;\n",
       "    }\n",
       "\n",
       "    .dataframe tbody tr th {\n",
       "        vertical-align: top;\n",
       "    }\n",
       "\n",
       "    .dataframe thead th {\n",
       "        text-align: right;\n",
       "    }\n",
       "</style>\n",
       "<table border=\"1\" class=\"dataframe\">\n",
       "  <thead>\n",
       "    <tr style=\"text-align: right;\">\n",
       "      <th></th>\n",
       "      <th>experiment_id</th>\n",
       "      <th>variation_id</th>\n",
       "      <th>opt_first_date</th>\n",
       "      <th>opt_last_date</th>\n",
       "      <th>opt_guid_count</th>\n",
       "      <th>duration</th>\n",
       "      <th>opt_conv_count</th>\n",
       "      <th>opt_conv_rate</th>\n",
       "      <th>dw_guid_count</th>\n",
       "      <th>dw_conv_count</th>\n",
       "      <th>dw_first_date</th>\n",
       "      <th>dw_last_date</th>\n",
       "      <th>dw_conv_rate</th>\n",
       "    </tr>\n",
       "  </thead>\n",
       "  <tbody>\n",
       "    <tr>\n",
       "      <th>0</th>\n",
       "      <td>20053754433</td>\n",
       "      <td>20041984016</td>\n",
       "      <td>2021-03-16 17:11:46.770</td>\n",
       "      <td>2021-04-21 23:59:04.760</td>\n",
       "      <td>340506</td>\n",
       "      <td>36</td>\n",
       "      <td>46153</td>\n",
       "      <td>0.135542</td>\n",
       "      <td>329000</td>\n",
       "      <td>49818</td>\n",
       "      <td>2021-03-16 00:00:00</td>\n",
       "      <td>2021-04-21 00:00:00</td>\n",
       "      <td>0.151422</td>\n",
       "    </tr>\n",
       "    <tr>\n",
       "      <th>1</th>\n",
       "      <td>20053754433</td>\n",
       "      <td>20057713467</td>\n",
       "      <td>2021-03-16 17:11:46.861</td>\n",
       "      <td>2021-04-21 23:59:06.312</td>\n",
       "      <td>341096</td>\n",
       "      <td>36</td>\n",
       "      <td>46370</td>\n",
       "      <td>0.135944</td>\n",
       "      <td>329637</td>\n",
       "      <td>49953</td>\n",
       "      <td>2021-03-16 00:00:01</td>\n",
       "      <td>2021-04-20 23:59:59</td>\n",
       "      <td>0.151539</td>\n",
       "    </tr>\n",
       "  </tbody>\n",
       "</table>\n",
       "</div>"
      ],
      "text/plain": [
       "  experiment_id variation_id          opt_first_date           opt_last_date  \\\n",
       "0   20053754433  20041984016 2021-03-16 17:11:46.770 2021-04-21 23:59:04.760   \n",
       "1   20053754433  20057713467 2021-03-16 17:11:46.861 2021-04-21 23:59:06.312   \n",
       "\n",
       "   opt_guid_count  duration  opt_conv_count  opt_conv_rate  dw_guid_count  \\\n",
       "0          340506        36           46153       0.135542         329000   \n",
       "1          341096        36           46370       0.135944         329637   \n",
       "\n",
       "   dw_conv_count       dw_first_date        dw_last_date  dw_conv_rate  \n",
       "0          49818 2021-03-16 00:00:00 2021-04-21 00:00:00      0.151422  \n",
       "1          49953 2021-03-16 00:00:01 2021-04-20 23:59:59      0.151539  "
      ]
     },
     "execution_count": 107,
     "metadata": {},
     "output_type": "execute_result"
    }
   ],
   "source": [
    "summary = pd.concat([opt_summary,dw_info],axis=1)\n",
    "summary['dw_conv_rate'] = summary.dw_conv_count / summary.dw_guid_count\n",
    "summary"
   ]
  },
  {
   "cell_type": "markdown",
   "metadata": {},
   "source": [
    "### 4. Fishers Test\n"
   ]
  },
  {
   "cell_type": "code",
   "execution_count": 114,
   "metadata": {},
   "outputs": [],
   "source": [
    "def fisher_exact(exp_id,guid_column,conv_column):    \n",
    "    exp_summary = summary[summary.experiment_id==exp_id]\n",
    "    exp_summary['churn_count'] = exp_summary[guid_column] - exp_summary[conv_column]\n",
    "    \n",
    "    contingency = pd.pivot_table(exp_summary,values=['churn_count',conv_column],columns=['variation_id']).to_numpy()\n",
    "    \n",
    "    oddsratio, pvalue = stats.fisher_exact(contingency)\n",
    "    \n",
    "    print('Contingency table: \\n',contingency)\n",
    "    print('Odds ratio: ',oddsratio)\n",
    "    print('P-value: ',pvalue)\n",
    "    \n",
    "    if pvalue<0.05:\n",
    "        print(\"\\n Fisher exact test is significant for experiment #\",exp_id)"
   ]
  },
  {
   "cell_type": "code",
   "execution_count": 112,
   "metadata": {},
   "outputs": [
    {
     "name": "stdout",
     "output_type": "stream",
     "text": [
      "Contingency table:  [[279182 279684]\n",
      " [ 49818  49953]]\n",
      "Odds ratio:  1.0009101172202115\n",
      "P-value:  0.8960901271391716\n"
     ]
    }
   ],
   "source": [
    "fisher_exact(experiment_id,'dw_guid_count','dw_conv_count')"
   ]
  },
  {
   "cell_type": "code",
   "execution_count": 113,
   "metadata": {},
   "outputs": [
    {
     "name": "stdout",
     "output_type": "stream",
     "text": [
      "Contingency table:  [[294353 294726]\n",
      " [ 46153  46370]]\n",
      "Odds ratio:  1.003430220140773\n",
      "P-value:  0.6305577810267511\n"
     ]
    }
   ],
   "source": [
    "fisher_exact(experiment_id,'opt_guid_count','opt_conv_count')"
   ]
  }
 ],
 "metadata": {
  "kernelspec": {
   "display_name": "Python 3",
   "language": "python",
   "name": "python3"
  },
  "language_info": {
   "codemirror_mode": {
    "name": "ipython",
    "version": 3
   },
   "file_extension": ".py",
   "mimetype": "text/x-python",
   "name": "python",
   "nbconvert_exporter": "python",
   "pygments_lexer": "ipython3",
   "version": "3.8.3"
  }
 },
 "nbformat": 4,
 "nbformat_minor": 4
}
